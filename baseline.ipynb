{
  "cells": [
    {
      "cell_type": "markdown",
      "metadata": {},
      "source": [
        "# Baseline Method\n",
        "- Impute missing data with 0\n",
        "- Normalize item by item (Only observed entries)\n",
        "- SVD with $k = 3$\n",
        "- Use result of SVD to initialize ALS (UV)\n",
        "- Run ALS with $k = 3$ and $λ = 0.1$ for 20 iterations"
      ]
    },
    {
      "cell_type": "markdown",
      "metadata": {
        "id": "WdZ-qzPO_Mbw"
      },
      "source": [
        "## Packages"
      ]
    },
    {
      "cell_type": "code",
      "execution_count": null,
      "metadata": {
        "id": "Sr5kvYqx-4kA"
      },
      "outputs": [],
      "source": [
        "import pandas as pd\n",
        "import numpy as np\n",
        "from tqdm import tqdm\n",
        "\n",
        "from utils import import_data_to_matrix, extract_submission\n",
        "from utils import NUMBER_OF_MOVIES, NUMBER_OF_USERS\n",
        "from utils import zscore_masked_items"
      ]
    },
    {
      "cell_type": "markdown",
      "metadata": {
        "id": "tiZ4bBQu_UEY"
      },
      "source": [
        "## Basic Settings\n",
        "- $k = 3$, $λ = 0.1$, 20 ALS (UV) iterations "
      ]
    },
    {
      "cell_type": "code",
      "execution_count": null,
      "metadata": {
        "id": "2cusQMrf-VN2"
      },
      "outputs": [],
      "source": [
        "k = 3 #number of top eigenvalues of SVD, choose by cross validation\n",
        "lambda_ = 0.1\n",
        "iterations = 20"
      ]
    },
    {
      "cell_type": "markdown",
      "metadata": {
        "id": "flpq9Ir2_WX_"
      },
      "source": [
        "## Data Preprocessings\n",
        "- Extract data to row-column format\n",
        "- Impute missing data with 0\n",
        "- Normalize item by item"
      ]
    },
    {
      "cell_type": "markdown",
      "metadata": {},
      "source": [
        "- Rating matrix A"
      ]
    },
    {
      "cell_type": "code",
      "execution_count": null,
      "metadata": {
        "id": "wNc3UeBc6gn7"
      },
      "outputs": [],
      "source": [
        "A = import_data_to_matrix()"
      ]
    },
    {
      "cell_type": "markdown",
      "metadata": {},
      "source": [
        "- Observation matrix Ω\n",
        "- Normalize item by item (z-scores)\n",
        "$$A_{ij} = \\frac{A_{ij} - \\overline{A{j}}}{std(A_{j})}$$\n",
        "\n",
        "Important: \n",
        "- Only observed entries are updated\n",
        "- Mean and std is computed only over observed entries"
      ]
    },
    {
      "cell_type": "code",
      "execution_count": null,
      "metadata": {
        "id": "jJ0yFusFEIrG"
      },
      "outputs": [],
      "source": [
        "W = (A > 0).astype(int)\n",
        "norm_A, mean_A, stddev_A = zscore_masked_items(A, W)"
      ]
    },
    {
      "cell_type": "markdown",
      "metadata": {},
      "source": [
        "## SVD & ALS\n",
        "- SVD with $k = 3$\n",
        "- Use result of SVD to initialize ALS (UV)\n",
        "- Run ALS (UV) with $k = 3$ and $λ = 0.1$ for 20 iterations"
      ]
    },
    {
      "cell_type": "markdown",
      "metadata": {},
      "source": [
        "### SVD & ALS initialization\n",
        "$$A_{nxm} = U_{nxk} V_{kxm}$$"
      ]
    },
    {
      "cell_type": "code",
      "execution_count": null,
      "metadata": {
        "id": "Ch_1W50I_sex"
      },
      "outputs": [],
      "source": [
        "# SVD decomposition\n",
        "U, s, Vt = np.linalg.svd(norm_A, full_matrices=False)\n",
        "# Using the top k eigenvalues\n",
        "S = np.zeros((NUMBER_OF_MOVIES , NUMBER_OF_MOVIES))\n",
        "S[:k, :k] = np.diag(s[:k])\n",
        "# Initialize ALS with SVD result\n",
        "# Only first k columns the rest are all set to zero\n",
        "U = U.dot(S)[:,:k]\n",
        "V = S.dot(Vt)[:k]"
      ]
    },
    {
      "cell_type": "markdown",
      "metadata": {},
      "source": [
        "### Alternating Least Square\n",
        "- Always converge but there is no guarantee that it will converge to the optimal"
      ]
    },
    {
      "cell_type": "markdown",
      "metadata": {},
      "source": [
        "- Objective function:\n",
        "$$l(U, V) = \\frac{1}{2}||Π_{Ω}(A - UV)||_{F}^{2} + \\frac{λ}{2}(||U||_{F}^{2} + ||V||_{F}^{2})$$"
      ]
    },
    {
      "cell_type": "code",
      "execution_count": null,
      "metadata": {},
      "outputs": [],
      "source": [
        "def loss(A, U, V, W, l):\n",
        "    return ((1/2) * np.sum((W * (A - np.dot(U, V)) ** 2))\n",
        "            + (l/2) * (np.sum(U ** 2) + np.sum(V ** 2)))"
      ]
    },
    {
      "cell_type": "markdown",
      "metadata": {},
      "source": [
        "$$ v_j^* = (\\sum_{i}^n {ω_{ij}u_iu_i^T + λI})^{-1} (\\sum_{i}^n ω_{ij}a_{ij}u_{i})$$\n",
        "\n",
        "$$ u_i^* = (\\sum_{j}^m {ω_{ij}v_jv_j^T + λI})^{-1} (\\sum_{j}^m ω_{ij}a_{ij}v_{j})$$\n",
        "\n",
        "- Trick: Solve a system of linear equations instead of finding the inverse\n",
        "\n",
        "$$ (\\sum_{i}^n {ω_{ij}u_iu_i^T + λI})v_j^* = (\\sum_{i}^n ω_{ij}a_{ij}u_{i})$$\n",
        "\n",
        "$$ (\\sum_{j}^m {ω_{ij}v_jv_j^T + λI})u_i^* = (\\sum_{j}^m ω_{ij}a_{ij}v_{j})$$\n",
        "\n",
        "- Note that $u_{i}$ is the $i^{th}$ row of $U$ and $v_{j}$ is the $j^{th}$ column of $V$."
      ]
    },
    {
      "cell_type": "code",
      "execution_count": null,
      "metadata": {
        "colab": {
          "base_uri": "https://localhost:8080/"
        },
        "id": "q2ospRbX_scj",
        "outputId": "28886985-c2d7-45f6-e7de-623e57006120"
      },
      "outputs": [],
      "source": [
        "for epoch in tqdm(range(iterations)):\n",
        "    for j, Wj  in enumerate(W.T):\n",
        "        V[:,j] = np.linalg.solve(np.dot(U.T, np.dot(np.diag(Wj), U)) + lambda_ * np.eye(k),\n",
        "                                 np.dot(U.T, np.dot(np.diag(Wj), norm_A[:, j])))\n",
        "\n",
        "    print(\"Loss l(U,V) after solving for V:\", loss(norm_A, U, V, W, lambda_))\n",
        "\n",
        "    for i, Wi  in enumerate(W):\n",
        "        U[i] = np.linalg.solve(np.dot(V, np.dot(np.diag(Wi), V.T)) + lambda_ * np.eye(k),\n",
        "                               np.dot(V, np.dot(np.diag(Wi), norm_A[i].T))).T\n",
        "\n",
        "    print(\"Loss l(U,V) after solving for U:\", loss(norm_A, U, V, W, lambda_))"
      ]
    },
    {
      "cell_type": "markdown",
      "metadata": {},
      "source": [
        "- Reconstruct data from the result of ALS (UV) after 20 iterations."
      ]
    },
    {
      "cell_type": "code",
      "execution_count": null,
      "metadata": {},
      "outputs": [],
      "source": [
        "rec_A = np.dot(U, V)\n",
        "#undo normalization\n",
        "for j in range(1000):\n",
        "    rec_A[:,j] *= stddev_A[j]\n",
        "    rec_A[:,j] += mean_A[j]"
      ]
    },
    {
      "cell_type": "markdown",
      "metadata": {
        "id": "XPJUBrFP_dRn"
      },
      "source": [
        "## Export Predictions\n"
      ]
    },
    {
      "cell_type": "code",
      "execution_count": null,
      "metadata": {
        "id": "pu0u1JOt-Zqq"
      },
      "outputs": [],
      "source": [
        "extract_submission(rec_A, file=\"baseline\")"
      ]
    }
  ],
  "metadata": {
    "accelerator": "GPU",
    "colab": {
      "collapsed_sections": [],
      "name": "CIL_project.ipynb",
      "provenance": []
    },
    "interpreter": {
      "hash": "0a87d56eeac580fc40402592e75d25bb128c24f68de3c5b4d3abca5cf6a5446a"
    },
    "kernelspec": {
      "display_name": "Python 3.9.7 ('base')",
      "language": "python",
      "name": "python3"
    },
    "language_info": {
      "codemirror_mode": {
        "name": "ipython",
        "version": 3
      },
      "file_extension": ".py",
      "mimetype": "text/x-python",
      "name": "python",
      "nbconvert_exporter": "python",
      "pygments_lexer": "ipython3",
      "version": "3.10.4"
    }
  },
  "nbformat": 4,
  "nbformat_minor": 0
}
