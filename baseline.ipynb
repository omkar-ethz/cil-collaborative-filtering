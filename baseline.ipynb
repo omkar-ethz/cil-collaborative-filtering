{
  "cells": [
    {
      "cell_type": "code",
      "execution_count": null,
      "metadata": {
        "id": "Sr5kvYqx-4kA"
      },
      "outputs": [],
      "source": [
        "import pandas as pd\n",
        "import numpy as np\n",
        "from tqdm import tqdm\n",
        "\n",
        "from utils import import_data_to_matrix_split, import_data_to_matrix, extract_submission\n",
        "from utils import zscore_masked_items, get_rmse_score"
      ]
    },
    {
      "cell_type": "markdown",
      "metadata": {},
      "source": [
        "# Baseline Method\n",
        "\n",
        "## Data Preprocessings\n",
        "- Extract data to row-column format\n",
        "- Impute missing data with 0\n",
        "- Rating matrix A\n",
        "- Observation matrix Ω\n",
        "- Normalize item by item (z-scores)\n",
        "$$A_{ij} = \\frac{A_{ij} - \\overline{A{j}}}{std(A_{j})}$$\n",
        "\n",
        "Important: \n",
        "- Only observed entries are updated\n",
        "- Mean and std is computed only over observed entries\n",
        "\n",
        "## SVD & ALS initialization\n",
        "- Initial U and V obtained from SVD\n",
        "$$A_{nxm} = U_{nxk} V_{kxm}$$\n",
        "\n",
        "## Alternating Least Square\n",
        "- Always converge but there is no guarantee that it will converge to the optimal\n",
        "- Objective function:\n",
        "$$l(U, V) = \\frac{1}{2}||Π_{Ω}(A - UV)||_{F}^{2} + \\frac{λ}{2}(||U||_{F}^{2} + ||V||_{F}^{2})$$\n",
        "\n",
        "### Solve\n",
        "$$ v_j^* = (\\sum_{i}^n {ω_{ij}u_iu_i^T + λI})^{-1} (\\sum_{i}^n ω_{ij}a_{ij}u_{i})$$\n",
        "\n",
        "$$ u_i^* = (\\sum_{j}^m {ω_{ij}v_jv_j^T + λI})^{-1} (\\sum_{j}^m ω_{ij}a_{ij}v_{j})$$\n",
        "\n",
        "- Trick: Solve a system of linear equations instead of finding the inverse\n",
        "\n",
        "$$ (\\sum_{i}^n {ω_{ij}u_iu_i^T + λI})v_j^* = (\\sum_{i}^n ω_{ij}a_{ij}u_{i})$$\n",
        "\n",
        "$$ (\\sum_{j}^m {ω_{ij}v_jv_j^T + λI})u_i^* = (\\sum_{j}^m ω_{ij}a_{ij}v_{j})$$\n",
        "\n",
        "- Note that $u_{i}$ is the $i^{th}$ row of $U$ and $v_{j}$ is the $j^{th}$ column of $V$.\n",
        "\n",
        "## Reconstruction\n",
        "- Reconstruct data from the result of ALS (UV)\n",
        "- Then undo normalization"
      ]
    },
    {
      "cell_type": "code",
      "execution_count": null,
      "metadata": {},
      "outputs": [],
      "source": [
        "class Baseline():\n",
        "    \n",
        "    def __init__(self, A, K=3, lambda1=0.1, epochs=20):\n",
        "        self.A = A\n",
        "        self.W = (self.A > 0).astype(int)\n",
        "        self.num_users, self.num_items = self.A.shape\n",
        "        self.K = K\n",
        "        self.lambda1 = lambda1\n",
        "        self.epochs = epochs\n",
        "        \n",
        "        self.norm_A, self.mean_A, self.stddev_A = zscore_masked_items(self.A, self.W)\n",
        "\n",
        "        # SVD decomposition init U and V\n",
        "        U, s, Vt = np.linalg.svd(self.norm_A, full_matrices=False)\n",
        "        # Using the top k eigenvalues\n",
        "        S = np.zeros((self.num_items , self.num_items))\n",
        "        S[:self.K, :self.K] = np.diag(s[:self.K])\n",
        "        # Initialize ALS with SVD result\n",
        "        # Only first k columns the rest are all set to zero\n",
        "        self.U = U.dot(S)[:,:self.K]\n",
        "        self.V = S.dot(Vt)[:self.K]\n",
        "    \n",
        "    def _loss(self):\n",
        "        return ((1/2) * np.sum((self.W * (self.A - np.dot(self.U, self.V)) ** 2))\n",
        "                + (self.lambda1/2) * (np.sum(self.U ** 2) + np.sum(self.V ** 2)))\n",
        "    \n",
        "    def train(self, test_matrix=None):\n",
        "        error_progress = {\n",
        "            \"train_rmse\": [],\n",
        "            \"test_rmse\": [],\n",
        "        }\n",
        "        for epoch in tqdm(range(self.epochs)):\n",
        "            self._als()\n",
        "            rec_A = self.reconstruct_matrix()\n",
        "            train_rmse = get_rmse_score(rec_A, self.A)\n",
        "            error_progress[\"train_rmse\"].append(train_rmse)\n",
        "            if test_matrix is not None:\n",
        "                test_rmse = get_rmse_score(rec_A, test_matrix)\n",
        "                error_progress[\"test_rmse\"].append(test_rmse)\n",
        "            # print(error_progress)\n",
        "        return error_progress\n",
        "    \n",
        "    def _als(self):\n",
        "        for j, Wj  in enumerate(self.W.T):\n",
        "            self.V[:,j] = np.linalg.solve(np.dot(self.U.T, np.dot(np.diag(Wj), self.U)) + self.lambda1 * np.eye(self.K),\n",
        "                                    np.dot(self.U.T, np.dot(np.diag(Wj), self.norm_A[:, j])))\n",
        "        # print(\"Loss l(U,V) after solving for V:\", self._loss())\n",
        "\n",
        "        for i, Wi  in enumerate(W):\n",
        "            self.U[i] = np.linalg.solve(np.dot(self.V, np.dot(np.diag(Wi), self.V.T)) + self.lambda1 * np.eye(self.K),\n",
        "                                np.dot(self.V, np.dot(np.diag(Wi), self.norm_A[i].T))).T\n",
        "        # print(\"Loss l(U,V) after solving for U:\", self._loss())\n",
        "    \n",
        "    def reconstruct_matrix(self):\n",
        "        \"\"\"\n",
        "        Compute the full matrix using U and V from als and undo normilization.\n",
        "        \"\"\"\n",
        "        rec_A = np.dot(self.U, self.V)\n",
        "        #undo normalization\n",
        "        for j in range(self.num_items):\n",
        "            rec_A[:,j] *= self.stddev_A[j]\n",
        "            rec_A[:,j] += self.mean_A[j]\n",
        "        return rec_A"
      ]
    },
    {
      "cell_type": "code",
      "execution_count": null,
      "metadata": {},
      "outputs": [],
      "source": [
        "# A, test_matrix = import_data_to_matrix_split()\n",
        "# # model = Baseline(A, K=3, lambda1=0.1, epochs=20)\n",
        "# model.train(test_matrix=test_matrix)"
      ]
    },
    {
      "cell_type": "code",
      "execution_count": null,
      "metadata": {},
      "outputs": [],
      "source": [
        "A = import_data_to_matrix()\n",
        "model = Baseline(A, K=3, lambda1=0.1, epochs=20)\n",
        "model.train()\n",
        "rec_A = model.reconstruct_matrix()"
      ]
    },
    {
      "cell_type": "code",
      "execution_count": null,
      "metadata": {},
      "outputs": [],
      "source": [
        "rec_A[rec_A>5] = 5\n",
        "rec_A[rec_A<1] = 1"
      ]
    },
    {
      "cell_type": "code",
      "execution_count": null,
      "metadata": {
        "id": "pu0u1JOt-Zqq"
      },
      "outputs": [],
      "source": [
        "extract_submission(rec_A, file=\"baseline\")"
      ]
    }
  ],
  "metadata": {
    "accelerator": "GPU",
    "colab": {
      "collapsed_sections": [],
      "name": "CIL_project.ipynb",
      "provenance": []
    },
    "interpreter": {
      "hash": "0a87d56eeac580fc40402592e75d25bb128c24f68de3c5b4d3abca5cf6a5446a"
    },
    "kernelspec": {
      "display_name": "Python 3.9.7 ('base')",
      "language": "python",
      "name": "python3"
    },
    "language_info": {
      "codemirror_mode": {
        "name": "ipython",
        "version": 3
      },
      "file_extension": ".py",
      "mimetype": "text/x-python",
      "name": "python",
      "nbconvert_exporter": "python",
      "pygments_lexer": "ipython3",
      "version": "3.9.7"
    }
  },
  "nbformat": 4,
  "nbformat_minor": 0
}
