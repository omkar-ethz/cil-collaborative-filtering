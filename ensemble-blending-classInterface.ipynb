{
 "cells": [
  {
   "cell_type": "markdown",
   "metadata": {},
   "source": [
    "### Stacking Ensemble - Blending\n",
    "Assuming we have $n$ models and the reconstructed matrix by the\n",
    "$i$-th model is denoted by $\\hat{A}$, the final prediction would be\n",
    "$$\\hat{A} = w_0 + \\sum_{i=1}^{n}w_i \\hat{A}^i$$\n",
    "\n",
    "$\\hat{A}^i$ fixed, only learn $w_i$ for $i = 0, 1, ..., n$\n",
    "\n",
    "We split the data into training and holdout set (say 95% - 5%, or try different split ratios). The level-0 $n$ models are trained on the training set. The weights $w_i$ of the level-1 ensemble model are then learned on the holdout set."
   ]
  },
  {
   "cell_type": "code",
   "execution_count": 1,
   "metadata": {},
   "outputs": [
    {
     "data": {
      "text/html": [
       "<div>\n",
       "<style scoped>\n",
       "    .dataframe tbody tr th:only-of-type {\n",
       "        vertical-align: middle;\n",
       "    }\n",
       "\n",
       "    .dataframe tbody tr th {\n",
       "        vertical-align: top;\n",
       "    }\n",
       "\n",
       "    .dataframe thead th {\n",
       "        text-align: right;\n",
       "    }\n",
       "</style>\n",
       "<table border=\"1\" class=\"dataframe\">\n",
       "  <thead>\n",
       "    <tr style=\"text-align: right;\">\n",
       "      <th></th>\n",
       "      <th>Id</th>\n",
       "      <th>Prediction</th>\n",
       "    </tr>\n",
       "  </thead>\n",
       "  <tbody>\n",
       "    <tr>\n",
       "      <th>0</th>\n",
       "      <td>r6010_c988</td>\n",
       "      <td>4</td>\n",
       "    </tr>\n",
       "    <tr>\n",
       "      <th>1</th>\n",
       "      <td>r3909_c747</td>\n",
       "      <td>5</td>\n",
       "    </tr>\n",
       "    <tr>\n",
       "      <th>2</th>\n",
       "      <td>r3440_c617</td>\n",
       "      <td>5</td>\n",
       "    </tr>\n",
       "    <tr>\n",
       "      <th>3</th>\n",
       "      <td>r2429_c527</td>\n",
       "      <td>3</td>\n",
       "    </tr>\n",
       "    <tr>\n",
       "      <th>4</th>\n",
       "      <td>r3797_c230</td>\n",
       "      <td>5</td>\n",
       "    </tr>\n",
       "  </tbody>\n",
       "</table>\n",
       "</div>"
      ],
      "text/plain": [
       "           Id  Prediction\n",
       "0  r6010_c988           4\n",
       "1  r3909_c747           5\n",
       "2  r3440_c617           5\n",
       "3  r2429_c527           3\n",
       "4  r3797_c230           5"
      ]
     },
     "execution_count": 1,
     "metadata": {},
     "output_type": "execute_result"
    }
   ],
   "source": [
    "# model-1: SVP - 10 instances k=1,3,5,..19\n",
    "# model-2: Regularized SVD - 10 instances\n",
    "# model-3: SVT - 10 instances\n",
    "import numpy as np\n",
    "import pandas as pd\n",
    "n = 3 # number of models\n",
    "data = pd.read_csv(\"./data/data_train.csv\")\n",
    "data = data.sample(frac=1).reset_index(drop=True)\n",
    "data.head()"
   ]
  },
  {
   "cell_type": "code",
   "execution_count": 2,
   "metadata": {},
   "outputs": [],
   "source": [
    "users, movies = \\\n",
    "        [np.squeeze(arr) for arr in \\\n",
    "        np.split(data.Id.str.extract(\"r(\\d+)_c(\\d+)\").values.astype(int) - 1, 2, axis=-1)]\n",
    "predictions = data.Prediction.values\n",
    "predictions = predictions.astype('float')"
   ]
  },
  {
   "cell_type": "code",
   "execution_count": 3,
   "metadata": {},
   "outputs": [],
   "source": [
    "train_size = int(0.97 * users.shape[0])\n",
    "A = np.full((10000, 1000), 0)\n",
    "for user , movie , pred in zip(users[:train_size], movies[:train_size], predictions[:train_size]):\n",
    "    A[user][movie] = pred\n",
    "W = (A > 0).astype(int)\n",
    "import utils\n",
    "norm_A, mean_A, stddev_A = utils.zscore_masked_items(A, W)"
   ]
  },
  {
   "cell_type": "code",
   "execution_count": 4,
   "metadata": {},
   "outputs": [],
   "source": [
    "sample_pd = pd.read_csv(\"./data/sampleSubmission.csv\")\n",
    "test_users, test_movies = \\\n",
    "    [np.squeeze(arr) for arr in \\\n",
    "    np.split(sample_pd.Id.str.extract(\"r(\\d+)_c(\\d+)\").values.astype(int) - 1, 2, axis=-1)]"
   ]
  },
  {
   "cell_type": "code",
   "execution_count": 5,
   "metadata": {},
   "outputs": [
    {
     "name": "stderr",
     "output_type": "stream",
     "text": [
      "100%|██████████| 10/10 [00:34<00:00,  3.45s/it]\n"
     ]
    },
    {
     "name": "stdout",
     "output_type": "stream",
     "text": [
      "{'train_rmse': [1.0049351361851364, 1.03661832249369, 1.1145133457491967, 1.107512651016955, 0.9775812117833881, 0.9755824416199274, 0.97490445103586, 0.9746648203519055, 0.9745821302672445, 0.9745547983845283], 'test_rmse': []}\n"
     ]
    },
    {
     "name": "stderr",
     "output_type": "stream",
     "text": [
      "100%|██████████| 25/25 [02:27<00:00,  5.89s/it]\n"
     ]
    },
    {
     "name": "stdout",
     "output_type": "stream",
     "text": [
      "{'train_rmse': [1.0293152751519885, 1.0293152751519885, 1.0293152751519885, 1.0293152751519885, 1.0293152751519885, 1.0293152751519885, 1.0293152751519885, 1.0293152751519885, 1.0293152751519885, 1.0293152751519885, 1.0293152751519885, 1.013434075234619, 1.0047726728740545, 1.001334447595028, 0.9997147084734773, 0.9987523220790174, 0.9980475962581288, 0.9974578204833733, 0.9950080637884416, 0.9896549764479328, 0.9822321405688885, 0.9789033400747009, 0.9759624195157552, 0.9704953373836582, 0.9639248451902666], 'test_rmse': []}\n"
     ]
    },
    {
     "name": "stderr",
     "output_type": "stream",
     "text": [
      "100%|██████████| 15/15 [04:51<00:00, 19.46s/it]"
     ]
    },
    {
     "name": "stdout",
     "output_type": "stream",
     "text": [
      "{'train_rmse': [1.0273487923398452, 1.013883978000307, 1.0107507609944884, 1.008996555662158, 1.0071504965911506, 1.0044948854959956, 0.9998254032804759, 0.9913380029920877, 0.9814470632405422, 0.9679630034394844, 0.9526074035095645, 0.9312504931284349, 0.905896474582688, 0.8740037203050934, 0.8378992687507257], 'test_rmse': []}\n",
      "(4, 58848)\n"
     ]
    },
    {
     "name": "stderr",
     "output_type": "stream",
     "text": [
      "\n"
     ]
    }
   ],
   "source": [
    "## Ensemble\n",
    "## Assume rec_A is given\n",
    "y_val = predictions[train_size:] #target of the ensemble\n",
    "X_ensemble = np.ones((1, y_val.shape[0]))\n",
    "raw_preds = np.empty((test_users.shape[0], 30),dtype=float)\n",
    "model_n = 0\n",
    "from SVP import SVP\n",
    "rank_schedule = [1,3,5,7,9,11,15,20,25,30]\n",
    "for k in range(10):\n",
    "    model = SVP(A, K=rank_schedule[k])\n",
    "    errors = model.train()\n",
    "    print(errors)\n",
    "    rec_A = model.reconstruct_matrix()\n",
    "    raw_preds[:,model_n] = rec_A[test_users, test_movies]\n",
    "    model_n += 1\n",
    "    y_pred = rec_A[users[train_size:], movies[train_size:]]\n",
    "    X_ensemble = np.vstack([X_ensemble, y_pred])\n",
    "\n",
    "from SVT import SVT\n",
    "#eta, tau, epochs\n",
    "schedule = [(1.2,2000,25), (1.5,2000,25), (1.2,1000,15), (1.2,1000,10),\n",
    "(2.0,2000,25), (2.0,1000,15), (2.5,3000,10), (3.0,3000,10), (3.5,2000,15), (3.5,1000,25)]\n",
    "\n",
    "for k in range(1):\n",
    "    eta, tau, epochs = schedule[k]\n",
    "    model = SVT(A, eta, tau, epochs)\n",
    "    errors = model.train()\n",
    "    print(errors)\n",
    "    rec_A = model.reconstruct_matrix()\n",
    "    raw_preds[:,model_n] = rec_A[test_users, test_movies]\n",
    "    model_n += 1\n",
    "    y_pred = rec_A[users[train_size:], movies[train_size:]]\n",
    "    X_ensemble = np.vstack([X_ensemble, y_pred])\n",
    "\n",
    "from RSVD import RSVD\n",
    "features_schedule = [50,100,150,200,250,300,324,350,400,450]\n",
    "for k in range(6,7):\n",
    "    features = features_schedule[k]\n",
    "    model = RSVD(A, features=features)\n",
    "    errors = model.train()\n",
    "    print(errors)\n",
    "    rec_A = model.reconstruct_matrix()\n",
    "    raw_preds[:,model_n] = rec_A[test_users, test_movies]\n",
    "    model_n += 1\n",
    "    y_pred = rec_A[users[train_size:], movies[train_size:]]\n",
    "    X_ensemble = np.vstack([X_ensemble, y_pred])\n",
    "\n",
    "print(X_ensemble.shape)\n",
    "X_ensemble = X_ensemble.T\n"
   ]
  },
  {
   "cell_type": "code",
   "execution_count": 6,
   "metadata": {},
   "outputs": [
    {
     "name": "stdout",
     "output_type": "stream",
     "text": [
      "(58848, 4) (58848,)\n",
      "[0.00413882 0.15648688 0.35769276 0.48497873]\n"
     ]
    },
    {
     "name": "stderr",
     "output_type": "stream",
     "text": [
      "/tmp/ipykernel_46655/953104046.py:2: FutureWarning: `rcond` parameter will change to the default of machine precision times ``max(M, N)`` where M and N are the input matrix dimensions.\n",
      "To use the future default and silence this warning we advise to pass `rcond=None`, to keep using the old, explicitly pass `rcond=-1`.\n",
      "  b, _, _, _ = np.linalg.lstsq(X_ensemble, y_val)\n"
     ]
    }
   ],
   "source": [
    "print(X_ensemble.shape, y_val.shape)\n",
    "b, _, _, _ = np.linalg.lstsq(X_ensemble, y_val)\n",
    "#final_preds = b[0][1:] * raw_preds\n",
    "print(b)"
   ]
  },
  {
   "cell_type": "code",
   "execution_count": 7,
   "metadata": {},
   "outputs": [
    {
     "data": {
      "text/plain": [
       "array([3.30322554, 3.13840517, 3.75757494, ..., 2.96213465, 3.28941731,\n",
       "       3.78084752])"
      ]
     },
     "execution_count": 7,
     "metadata": {},
     "output_type": "execute_result"
    }
   ],
   "source": [
    "final_preds = np.sum(raw_preds * b[1:], axis=1) + b[0]\n",
    "final_preds\n",
    "#final_preds = b[1:] * raw_preds\n",
    "#final_preds.shape[]"
   ]
  },
  {
   "cell_type": "code",
   "execution_count": 8,
   "metadata": {},
   "outputs": [
    {
     "data": {
      "image/png": "[encoded data removed]",
      "text/plain": [
       "<Figure size 432x288 with 1 Axes>"
      ]
     },
     "metadata": {
      "needs_background": "light"
     },
     "output_type": "display_data"
    }
   ],
   "source": [
    "import matplotlib.pyplot as plt\n",
    "plt.hist(final_preds)\n",
    "plt.show()"
   ]
  },
  {
   "cell_type": "code",
   "execution_count": 9,
   "metadata": {},
   "outputs": [
    {
     "data": {
      "image/png": "[encoded data removed]",
      "text/plain": [
       "<Figure size 432x288 with 1 Axes>"
      ]
     },
     "metadata": {
      "needs_background": "light"
     },
     "output_type": "display_data"
    }
   ],
   "source": [
    "fps = np.copy(final_preds)\n",
    "fps[fps > 5] = 5\n",
    "fps[fps < 1] = 1\n",
    "plt.hist(fps)\n",
    "plt.show()"
   ]
  },
  {
   "cell_type": "code",
   "execution_count": 10,
   "metadata": {},
   "outputs": [],
   "source": [
    "import datetime\n",
    "timestamp = datetime.datetime.now().strftime(\"%Y-%m-%d_%H.%M.%S\")\n",
    "with open(\"./data/submissions/\" + \"ensemble_svp_svt_rsvd\" + \"_\" + timestamp + \".csv\", \"w\") as f:\n",
    "    f.write(\"Id,Prediction\\n\")\n",
    "    for (user, movie, pred) in zip(test_users, test_movies, fps):\n",
    "        f.write(\"r{}_c{},{}\\n\".format(user + 1, movie + 1, pred))"
   ]
  }
 ],
 "metadata": {
  "kernelspec": {
   "display_name": "Python 3.10.2 ('cil')",
   "language": "python",
   "name": "python3"
  },
  "language_info": {
   "codemirror_mode": {
    "name": "ipython",
    "version": 3
   },
   "file_extension": ".py",
   "mimetype": "text/x-python",
   "name": "python",
   "nbconvert_exporter": "python",
   "pygments_lexer": "ipython3",
   "version": "3.10.5"
  },
  "orig_nbformat": 4,
  "vscode": {
   "interpreter": {
    "hash": "49beda6cbcda4daddaf5fa7c1f859c0e20ecf9f37cbd1708819db2b3dc28a405"
   }
  }
 },
 "nbformat": 4,
 "nbformat_minor": 2
}
