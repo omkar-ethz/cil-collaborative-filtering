{
 "cells": [
  {
   "cell_type": "code",
   "execution_count": 47,
   "metadata": {},
   "outputs": [],
   "source": [
    "import matplotlib.pyplot as plt\n",
    "import matplotlib\n",
    "import numpy as np\n",
    "import pandas as pd\n",
    "\n",
    "from utils import create_matrix_from_raw, RAND_SEED\n",
    "from models import SVD, IRSVD, Baseline, GBias, SVP, SVT, RSVD\n",
    "from sklearn.model_selection import KFold"
   ]
  },
  {
   "cell_type": "markdown",
   "metadata": {},
   "source": [
    "## Some usefull functions for anaylisis and plots"
   ]
  },
  {
   "cell_type": "code",
   "execution_count": 49,
   "metadata": {},
   "outputs": [],
   "source": [
    "matplotlib.rcParams.update({'font.size': 15})\n",
    "def plot_graph(xlabel, ylabel, x_vals, y_vals, name):\n",
    "    fig, axs = plt.subplots(1, 1, figsize=(9, 5), sharey=True)\n",
    "    axs.plot(x_vals, y_vals)\n",
    "    min_yval = min(y_vals)\n",
    "    min_idx = y_vals.index(min_yval)\n",
    "    min_xval = x_vals[min_idx]\n",
    "    axs.plot(min_xval, min_yval, \"ro\")\n",
    "    axs.set_xlabel(xlabel)\n",
    "    axs.set_ylabel(ylabel)\n",
    "    axs.set_xticks(x_vals)\n",
    "    fig.savefig(\"./experiments_out/\"+name+\".pdf\", bbox_inches='tight')\n",
    "    # fig.suptitle('Categorical Plotting')\n",
    "\n",
    "def plot_graph2(train_err, test_err, name):\n",
    "    fig, axs = plt.subplots(1, 1, figsize=(9, 5), sharey=True)\n",
    "    x_vals = list(range(1,len(train_err)+1))\n",
    "    axs.plot(x_vals, train_err, label=\"train\")\n",
    "    axs.plot(x_vals, test_err, label=\"test\")\n",
    "    axs.legend(loc=\"lower left\")\n",
    "    min_yval = min(test_err)\n",
    "    min_idx = test.index(min_yval)\n",
    "    min_xval = x_vals[min_idx]\n",
    "    axs.plot(min_xval, min_yval, \"ro\")\n",
    "    axs.set_xlabel(\"features\")\n",
    "    axs.set_ylabel(\"RMSE\")\n",
    "    axs.set_xticks(x_vals)\n",
    "    fig.savefig(\"./experiments_out/\"+name+\".pdf\", bbox_inches='tight')\n",
    "\n",
    "def analyse_results(results):\n",
    "    best_epoch = None\n",
    "    mean = None\n",
    "    std = None\n",
    "    \n",
    "    min_errors = []\n",
    "    for idx, result in enumerate(results):\n",
    "        test_rmse_lst = result[\"test_rmse\"]\n",
    "        if idx == 0:\n",
    "            min_error = min(test_rmse_lst)\n",
    "            best_epoch = test_rmse_lst.index(min_error)\n",
    "        else:\n",
    "            min_error = test_rmse_lst[best_epoch]\n",
    "        min_errors.append(min_error)\n",
    "    \n",
    "    min_errors = np.array(min_errors)\n",
    "    mean = min_errors.mean()\n",
    "    std = min_errors.std()\n",
    "    return mean, std, best_epoch+1"
   ]
  },
  {
   "cell_type": "markdown",
   "metadata": {},
   "source": [
    "## KFolds\n",
    "- Hyperparameters tunning levereging k=10 folds cross validation"
   ]
  },
  {
   "cell_type": "code",
   "execution_count": 50,
   "metadata": {},
   "outputs": [
    {
     "name": "stdout",
     "output_type": "stream",
     "text": [
      "[      0       1       3 ... 1176948 1176950 1176951]\n",
      "[      2       7      14 ... 1176940 1176941 1176949]\n",
      "[      0       1       2 ... 1176948 1176949 1176951]\n",
      "[      5      12      13 ... 1176920 1176927 1176950]\n",
      "[      1       2       3 ... 1176949 1176950 1176951]\n",
      "[      0      36      43 ... 1176933 1176936 1176945]\n",
      "[      0       1       2 ... 1176949 1176950 1176951]\n",
      "[      3      10      17 ... 1176922 1176925 1176943]\n",
      "[      0       1       2 ... 1176949 1176950 1176951]\n",
      "[      6       9      32 ... 1176907 1176928 1176929]\n",
      "[      0       1       2 ... 1176948 1176949 1176950]\n",
      "[     11      26      29 ... 1176893 1176946 1176951]\n",
      "[      0       1       2 ... 1176949 1176950 1176951]\n",
      "[     28      35      61 ... 1176931 1176935 1176948]\n",
      "[      0       1       2 ... 1176949 1176950 1176951]\n",
      "[      4      15      16 ... 1176912 1176917 1176934]\n",
      "[      0       2       3 ... 1176949 1176950 1176951]\n",
      "[      1       8      21 ... 1176919 1176930 1176944]\n",
      "[      0       1       2 ... 1176949 1176950 1176951]\n",
      "[     27      37      55 ... 1176918 1176942 1176947]\n"
     ]
    }
   ],
   "source": [
    "data_pd = pd.read_csv(\"./data/data_train.csv\")\n",
    "kf = KFold(n_splits=10, shuffle=True, random_state=RAND_SEED)\n",
    "# Check whether we have the same splits\n",
    "for train_set, test_set in kf.split(data_pd):\n",
    "    print(train_set)\n",
    "    print(test_set)"
   ]
  },
  {
   "cell_type": "markdown",
   "metadata": {},
   "source": [
    "## Experiments"
   ]
  },
  {
   "cell_type": "markdown",
   "metadata": {},
   "source": [
    "### SVD - Baseline 1\n",
    "- In this experiment we will find the best value for k (the most important singular values)"
   ]
  },
  {
   "cell_type": "code",
   "execution_count": 51,
   "metadata": {},
   "outputs": [
    {
     "name": "stdout",
     "output_type": "stream",
     "text": [
      "SVD finding best k value\n",
      "For k=1: Mean=1.0169676205942233, Std=0.0018721492591010722\n",
      "For k=2: Mean=1.01368583495017, Std=0.0018685660762282881\n",
      "For k=3: Mean=1.0107154066990913, Std=0.0018815667270166265\n",
      "For k=4: Mean=1.009699400167953, Std=0.001858120565110154\n",
      "For k=5: Mean=1.009088007559464, Std=0.0018348060925282958\n",
      "For k=6: Mean=1.0082281069210848, Std=0.0018288593558083827\n",
      "For k=7: Mean=1.0080039447132985, Std=0.0018213295395023985\n",
      "For k=8: Mean=1.0079976435913713, Std=0.0017857051934389572\n",
      "For k=9: Mean=1.0080443608937684, Std=0.0017733416797546147\n",
      "For k=10: Mean=1.008080774693447, Std=0.0018053822584526388\n",
      "For k=11: Mean=1.0081163325237372, Std=0.0018364199271381978\n",
      "For k=12: Mean=1.0082287633299891, Std=0.001812552567251863\n",
      "For k=13: Mean=1.0082881328719326, Std=0.0018042372761320217\n",
      "For k=14: Mean=1.0084298323375958, Std=0.0018719428833927315\n",
      "For k=15: Mean=1.0085259930945822, Std=0.0018588853084021812\n",
      "For k=16: Mean=1.0085634720745589, Std=0.001820069639217999\n",
      "For k=17: Mean=1.008690600966126, Std=0.001877812504167725\n",
      "For k=18: Mean=1.0087808480094431, Std=0.0017956079670539366\n",
      "For k=19: Mean=1.008916442838105, Std=0.0017691425819892441\n",
      "For k=20: Mean=1.009077969066932, Std=0.001781781592880967\n"
     ]
    },
    {
     "data": {
      "image/png": "[encoded data removed]",
      "text/plain": [
       "<Figure size 648x360 with 1 Axes>"
      ]
     },
     "metadata": {
      "needs_background": "light"
     },
     "output_type": "display_data"
    }
   ],
   "source": [
    "print(\"SVD finding best k value\")\n",
    "data = dict()\n",
    "for k in range(1,21):\n",
    "    results = []\n",
    "    for idx, (train_set, test_set) in enumerate(kf.split(data_pd)):\n",
    "        train_data = data_pd.iloc[train_set]\n",
    "        test_data = data_pd.iloc[test_set]\n",
    "        \n",
    "        train_matrix = create_matrix_from_raw(train_data)\n",
    "        test_matrix = create_matrix_from_raw(test_data)\n",
    "        \n",
    "        model = SVD(train_matrix, K=k)\n",
    "        result = model.train(test_matrix=test_matrix)\n",
    "        results.append(result)\n",
    "    mean, std, _ = analyse_results(results)\n",
    "    print(f\"For k={k}: Mean={mean}, Std={std}\")\n",
    "    data[k] = mean\n",
    "ks = list(data.keys())\n",
    "scores = list(data.values())\n",
    "plot_graph(\"Number of singular values\", \"Avg. RMSE\", ks, scores, \"svd\")\n"
   ]
  },
  {
   "cell_type": "markdown",
   "metadata": {},
   "source": [
    "### ALS (U,V decomposition) - Baseline 2\n",
    "- In this experiment we will use the best value for k=3 and we will explore the number of epochs necessary until convergence.\n",
    "- We will fix $λ$ to 0.1"
   ]
  },
  {
   "cell_type": "code",
   "execution_count": 52,
   "metadata": {},
   "outputs": [
    {
     "name": "stdout",
     "output_type": "stream",
     "text": [
      "Finding number of epochs until convergence\n"
     ]
    },
    {
     "name": "stderr",
     "output_type": "stream",
     "text": [
      "100%|██████████| 5/5 [1:02:14<00:00, 746.89s/it]"
     ]
    },
    {
     "name": "stdout",
     "output_type": "stream",
     "text": [
      "For k=3 and lambda=0.1\n"
     ]
    },
    {
     "name": "stderr",
     "output_type": "stream",
     "text": [
      "\n"
     ]
    },
    {
     "data": {
      "image/png": "[encoded data removed]",
      "text/plain": [
       "<Figure size 648x360 with 1 Axes>"
      ]
     },
     "metadata": {
      "needs_background": "light"
     },
     "output_type": "display_data"
    }
   ],
   "source": [
    "# We will only perform this test on the first fold\n",
    "print(\"Finding number of epochs until convergence\")\n",
    "data = dict()\n",
    "results = []\n",
    "for idx, (train_set, test_set) in enumerate(kf.split(data_pd)):\n",
    "    train_data = data_pd.iloc[train_set]\n",
    "    test_data = data_pd.iloc[test_set]\n",
    "    \n",
    "    train_matrix = create_matrix_from_raw(train_data)\n",
    "    test_matrix = create_matrix_from_raw(test_data)\n",
    "    \n",
    "    model = Baseline(train_matrix, K=3, lambda1=0.1, epochs=5)\n",
    "    result = model.train(test_matrix=test_matrix)\n",
    "    results.append(result)\n",
    "    break\n",
    "\n",
    "print(f\"For k=3 and lambda=0.1\")\n",
    "epochs = list(range(1,6))\n",
    "scores = results[0][\"test_rmse\"]\n",
    "plot_graph(\"Epoch\", \"RMSE\", epochs, scores, \"als\")"
   ]
  },
  {
   "cell_type": "code",
   "execution_count": null,
   "metadata": {},
   "outputs": [],
   "source": [
    "# epochs = list(range(1,6))\n",
    "# scores = results[0][\"test_rmse\"]\n",
    "# plot_graph(\"Epoch\", \"RMSE\", epochs, scores)"
   ]
  },
  {
   "cell_type": "markdown",
   "metadata": {},
   "source": [
    "- Cross validation score for k=3, λ=0.1, epochs=5"
   ]
  },
  {
   "cell_type": "code",
   "execution_count": null,
   "metadata": {},
   "outputs": [],
   "source": [
    "results = []\n",
    "for idx, (train_set, test_set) in enumerate(kf.split(data_pd)):\n",
    "    train_data = data_pd.iloc[train_set]\n",
    "    test_data = data_pd.iloc[test_set]\n",
    "    \n",
    "    train_matrix = create_matrix_from_raw(train_data)\n",
    "    test_matrix = create_matrix_from_raw(test_data)\n",
    "    \n",
    "    model = Baseline(train_matrix, K=3, lambda1=0.1, epochs=5)\n",
    "    result = model.train(test_matrix=test_matrix)\n",
    "    results.append(result)\n",
    "mean, std, _ = analyse_results(results)\n",
    "print(f\"For k=3: Mean={mean}, Std={std}\")"
   ]
  },
  {
   "cell_type": "markdown",
   "metadata": {},
   "source": [
    "### Global biases (ALS2)\n",
    "- In this experiment we will find the best value of $λ$ (regularization factor)\n",
    "- We will also automatically find the epoch at which this method converge."
   ]
  },
  {
   "cell_type": "code",
   "execution_count": null,
   "metadata": {},
   "outputs": [],
   "source": [
    "print(\"Global biases finding best lambda value\")\n",
    "data = dict()\n",
    "for lambda1 in [0.0005, 0.001, 0.0015, 0.002, 0.0025, 0.003, 0.01]:\n",
    "    results = []\n",
    "    for idx, (train_set, test_set) in enumerate(kf.split(data_pd)):\n",
    "        train_data = data_pd.iloc[train_set]\n",
    "        test_data = data_pd.iloc[test_set]\n",
    "        \n",
    "        train_matrix = create_matrix_from_raw(train_data)\n",
    "        test_matrix = create_matrix_from_raw(test_data)\n",
    "        \n",
    "        model = GBias(train_matrix, lambda1=lambda1, epochs=5)\n",
    "        result = model.train(test_matrix=test_matrix)\n",
    "        results.append(result)\n",
    "    mean, std, best_epoch = analyse_results(results)\n",
    "    print(f\"For lambda={lambda1}: Mean={mean}, Std={std}, Epoch(conv.)={best_epoch}\")\n",
    "    data[lambda1] = mean\n",
    "lambdas = list(data.keys())\n",
    "scores = list(data.values())\n",
    "plot_graph(\"Regularization\", \"Avg. RMSE\", lambdas, scores, \"global\")"
   ]
  },
  {
   "cell_type": "markdown",
   "metadata": {},
   "source": [
    "### Singular value thresholding (SVT) / Nuclear norm relaxation\n",
    "- In this experiment we will find the best value for $τ$.\n",
    "- We will also learn for free the number of epochs necessary to converge.\n",
    "- Learning rate will be set to 1.2 (reference paper)"
   ]
  },
  {
   "cell_type": "code",
   "execution_count": 53,
   "metadata": {},
   "outputs": [
    {
     "name": "stdout",
     "output_type": "stream",
     "text": [
      "SVT finding best tau value\n"
     ]
    },
    {
     "name": "stderr",
     "output_type": "stream",
     "text": [
      "100%|██████████| 23/23 [01:11<00:00,  3.11s/it]\n",
      "100%|██████████| 23/23 [01:16<00:00,  3.33s/it]\n",
      "100%|██████████| 23/23 [01:16<00:00,  3.32s/it]\n",
      "100%|██████████| 23/23 [01:13<00:00,  3.22s/it]\n",
      "100%|██████████| 23/23 [01:15<00:00,  3.27s/it]\n",
      "100%|██████████| 23/23 [01:13<00:00,  3.18s/it]\n",
      "100%|██████████| 23/23 [01:13<00:00,  3.22s/it]\n",
      "100%|██████████| 23/23 [01:16<00:00,  3.32s/it]\n",
      "100%|██████████| 23/23 [01:12<00:00,  3.17s/it]\n",
      "100%|██████████| 23/23 [01:12<00:00,  3.15s/it]\n"
     ]
    },
    {
     "name": "stdout",
     "output_type": "stream",
     "text": [
      "For tau=200: Mean=0.9961902631768667, Std=0.001870098444603902, Epoch(conv.)=4\n"
     ]
    },
    {
     "name": "stderr",
     "output_type": "stream",
     "text": [
      "100%|██████████| 23/23 [01:21<00:00,  3.52s/it]\n",
      "100%|██████████| 23/23 [01:14<00:00,  3.22s/it]\n",
      "100%|██████████| 23/23 [01:12<00:00,  3.16s/it]\n",
      "100%|██████████| 23/23 [01:15<00:00,  3.27s/it]\n",
      "100%|██████████| 23/23 [01:12<00:00,  3.14s/it]\n",
      "100%|██████████| 23/23 [01:19<00:00,  3.47s/it]\n",
      "100%|██████████| 23/23 [01:13<00:00,  3.19s/it]\n",
      "100%|██████████| 23/23 [01:15<00:00,  3.30s/it]\n",
      "100%|██████████| 23/23 [01:16<00:00,  3.31s/it]\n",
      "100%|██████████| 23/23 [01:13<00:00,  3.19s/it]\n"
     ]
    },
    {
     "name": "stdout",
     "output_type": "stream",
     "text": [
      "For tau=400: Mean=0.9920843382125207, Std=0.001807924336124388, Epoch(conv.)=6\n"
     ]
    },
    {
     "name": "stderr",
     "output_type": "stream",
     "text": [
      "100%|██████████| 23/23 [01:19<00:00,  3.46s/it]\n",
      "100%|██████████| 23/23 [01:11<00:00,  3.12s/it]\n",
      "100%|██████████| 23/23 [01:13<00:00,  3.20s/it]\n",
      "100%|██████████| 23/23 [01:15<00:00,  3.26s/it]\n",
      "100%|██████████| 23/23 [01:14<00:00,  3.24s/it]\n",
      "100%|██████████| 23/23 [01:12<00:00,  3.16s/it]\n",
      "100%|██████████| 23/23 [01:19<00:00,  3.46s/it]\n",
      "100%|██████████| 23/23 [01:09<00:00,  3.04s/it]\n",
      "100%|██████████| 23/23 [01:13<00:00,  3.20s/it]\n",
      "100%|██████████| 23/23 [01:15<00:00,  3.26s/it]\n"
     ]
    },
    {
     "name": "stdout",
     "output_type": "stream",
     "text": [
      "For tau=600: Mean=0.9901357743137869, Std=0.0018026101319236181, Epoch(conv.)=9\n"
     ]
    },
    {
     "name": "stderr",
     "output_type": "stream",
     "text": [
      "100%|██████████| 23/23 [01:14<00:00,  3.24s/it]\n",
      "100%|██████████| 23/23 [01:17<00:00,  3.37s/it]\n",
      "100%|██████████| 23/23 [01:14<00:00,  3.24s/it]\n",
      "100%|██████████| 23/23 [01:16<00:00,  3.32s/it]\n",
      "100%|██████████| 23/23 [01:14<00:00,  3.24s/it]\n",
      "100%|██████████| 23/23 [01:13<00:00,  3.21s/it]\n",
      "100%|██████████| 23/23 [01:14<00:00,  3.23s/it]\n",
      "100%|██████████| 23/23 [01:11<00:00,  3.12s/it]\n",
      "100%|██████████| 23/23 [01:12<00:00,  3.15s/it]\n",
      "100%|██████████| 23/23 [01:16<00:00,  3.32s/it]\n"
     ]
    },
    {
     "name": "stdout",
     "output_type": "stream",
     "text": [
      "For tau=800: Mean=0.9897984996840758, Std=0.001796063664876637, Epoch(conv.)=12\n"
     ]
    },
    {
     "name": "stderr",
     "output_type": "stream",
     "text": [
      "100%|██████████| 23/23 [01:12<00:00,  3.14s/it]\n",
      "100%|██████████| 23/23 [01:12<00:00,  3.13s/it]\n",
      "100%|██████████| 23/23 [01:17<00:00,  3.37s/it]\n",
      "100%|██████████| 23/23 [01:15<00:00,  3.27s/it]\n",
      "100%|██████████| 23/23 [01:13<00:00,  3.18s/it]\n",
      "100%|██████████| 23/23 [01:13<00:00,  3.17s/it]\n",
      "100%|██████████| 23/23 [01:17<00:00,  3.35s/it]\n",
      "100%|██████████| 23/23 [01:13<00:00,  3.20s/it]\n",
      "100%|██████████| 23/23 [01:13<00:00,  3.20s/it]\n",
      "100%|██████████| 23/23 [01:14<00:00,  3.23s/it]\n"
     ]
    },
    {
     "name": "stdout",
     "output_type": "stream",
     "text": [
      "For tau=1000: Mean=0.9900318848529654, Std=0.001785847970388259, Epoch(conv.)=15\n"
     ]
    },
    {
     "name": "stderr",
     "output_type": "stream",
     "text": [
      "100%|██████████| 23/23 [01:19<00:00,  3.45s/it]\n",
      "100%|██████████| 23/23 [01:13<00:00,  3.20s/it]\n",
      "100%|██████████| 23/23 [01:11<00:00,  3.12s/it]\n",
      "100%|██████████| 23/23 [01:15<00:00,  3.27s/it]\n",
      "100%|██████████| 23/23 [01:16<00:00,  3.32s/it]\n",
      "100%|██████████| 23/23 [01:12<00:00,  3.16s/it]\n",
      "100%|██████████| 23/23 [01:14<00:00,  3.25s/it]\n",
      "100%|██████████| 23/23 [01:17<00:00,  3.36s/it]\n",
      "100%|██████████| 23/23 [01:15<00:00,  3.27s/it]\n",
      "100%|██████████| 23/23 [01:16<00:00,  3.32s/it]\n"
     ]
    },
    {
     "name": "stdout",
     "output_type": "stream",
     "text": [
      "For tau=1200: Mean=0.9904966538136343, Std=0.0017805938609871943, Epoch(conv.)=18\n"
     ]
    },
    {
     "name": "stderr",
     "output_type": "stream",
     "text": [
      "100%|██████████| 23/23 [01:14<00:00,  3.23s/it]\n",
      "100%|██████████| 23/23 [01:14<00:00,  3.24s/it]\n",
      "100%|██████████| 23/23 [01:17<00:00,  3.37s/it]\n",
      "100%|██████████| 23/23 [01:10<00:00,  3.08s/it]\n",
      "100%|██████████| 23/23 [01:12<00:00,  3.17s/it]\n",
      "100%|██████████| 23/23 [01:12<00:00,  3.17s/it]\n",
      "100%|██████████| 23/23 [01:12<00:00,  3.15s/it]\n",
      "100%|██████████| 23/23 [01:13<00:00,  3.22s/it]\n",
      "100%|██████████| 23/23 [01:15<00:00,  3.28s/it]\n",
      "100%|██████████| 23/23 [01:15<00:00,  3.30s/it]"
     ]
    },
    {
     "name": "stdout",
     "output_type": "stream",
     "text": [
      "For tau=1400: Mean=0.9903300735115117, Std=0.001769898246642612, Epoch(conv.)=20\n"
     ]
    },
    {
     "name": "stderr",
     "output_type": "stream",
     "text": [
      "\n"
     ]
    },
    {
     "data": {
      "image/png": "[encoded data removed]",
      "text/plain": [
       "<Figure size 648x360 with 1 Axes>"
      ]
     },
     "metadata": {
      "needs_background": "light"
     },
     "output_type": "display_data"
    }
   ],
   "source": [
    "print(\"SVT finding best tau value\")\n",
    "data = dict()\n",
    "for tau in range(200,1600,200):\n",
    "    results = []\n",
    "    for idx, (train_set, test_set) in enumerate(kf.split(data_pd)):\n",
    "        train_data = data_pd.iloc[train_set]\n",
    "        test_data = data_pd.iloc[test_set]\n",
    "        \n",
    "        train_matrix = create_matrix_from_raw(train_data)\n",
    "        test_matrix = create_matrix_from_raw(test_data)\n",
    "        \n",
    "        model = SVT(train_matrix, eta=1.2, tau=tau, epochs=23)\n",
    "        result = model.train(test_matrix=test_matrix)\n",
    "        results.append(result)\n",
    "    mean, std, best_epoch = analyse_results(results)\n",
    "    print(f\"For tau={tau}: Mean={mean}, Std={std}, Epoch(conv.)={best_epoch}\")\n",
    "    data[tau] = mean\n",
    "taus = list(data.keys())\n",
    "scores = list(data.values())\n",
    "plot_graph(\"Threshold\", \"Avg. RMSE\", taus, scores, \"svt\")"
   ]
  },
  {
   "cell_type": "markdown",
   "metadata": {},
   "source": [
    "### Singular value projection (SVP)\n",
    "- In this experiment we will find the best value for K\n",
    "- We will also learn for free the number of epochs necessary to converge.\n",
    "- Learning rate will be set to 5 (reference paper)"
   ]
  },
  {
   "cell_type": "code",
   "execution_count": 54,
   "metadata": {},
   "outputs": [
    {
     "name": "stdout",
     "output_type": "stream",
     "text": [
      "SVP finding best projection rank (k) value\n"
     ]
    },
    {
     "name": "stderr",
     "output_type": "stream",
     "text": [
      "100%|██████████| 20/20 [00:48<00:00,  2.45s/it]\n",
      "100%|██████████| 20/20 [00:48<00:00,  2.41s/it]\n",
      "100%|██████████| 20/20 [00:47<00:00,  2.36s/it]\n",
      "100%|██████████| 20/20 [00:46<00:00,  2.32s/it]\n",
      "100%|██████████| 20/20 [00:45<00:00,  2.27s/it]\n",
      "100%|██████████| 20/20 [00:46<00:00,  2.30s/it]\n",
      "100%|██████████| 20/20 [00:42<00:00,  2.15s/it]\n",
      "100%|██████████| 20/20 [00:48<00:00,  2.41s/it]\n",
      "100%|██████████| 20/20 [00:47<00:00,  2.36s/it]\n",
      "100%|██████████| 20/20 [00:48<00:00,  2.41s/it]\n"
     ]
    },
    {
     "name": "stdout",
     "output_type": "stream",
     "text": [
      "For k=1: Mean=1.00001581795508, Std=0.002019152550145439, Epoch(conv.)=20\n"
     ]
    },
    {
     "name": "stderr",
     "output_type": "stream",
     "text": [
      "100%|██████████| 20/20 [00:45<00:00,  2.26s/it]\n",
      "100%|██████████| 20/20 [00:47<00:00,  2.37s/it]\n",
      "100%|██████████| 20/20 [00:44<00:00,  2.20s/it]\n",
      "100%|██████████| 20/20 [00:47<00:00,  2.36s/it]\n",
      "100%|██████████| 20/20 [00:48<00:00,  2.42s/it]\n",
      "100%|██████████| 20/20 [00:47<00:00,  2.38s/it]\n",
      "100%|██████████| 20/20 [00:43<00:00,  2.15s/it]\n",
      "100%|██████████| 20/20 [00:43<00:00,  2.20s/it]\n",
      "100%|██████████| 20/20 [00:46<00:00,  2.32s/it]\n",
      "100%|██████████| 20/20 [00:49<00:00,  2.45s/it]\n"
     ]
    },
    {
     "name": "stdout",
     "output_type": "stream",
     "text": [
      "For k=2: Mean=0.9944407568473368, Std=0.0018839428781961029, Epoch(conv.)=20\n"
     ]
    },
    {
     "name": "stderr",
     "output_type": "stream",
     "text": [
      "100%|██████████| 20/20 [00:46<00:00,  2.33s/it]\n",
      "100%|██████████| 20/20 [00:48<00:00,  2.41s/it]\n",
      "100%|██████████| 20/20 [00:43<00:00,  2.19s/it]\n",
      "100%|██████████| 20/20 [00:44<00:00,  2.22s/it]\n",
      "100%|██████████| 20/20 [00:48<00:00,  2.41s/it]\n",
      "100%|██████████| 20/20 [00:46<00:00,  2.35s/it]\n",
      "100%|██████████| 20/20 [00:46<00:00,  2.32s/it]\n",
      "100%|██████████| 20/20 [00:48<00:00,  2.44s/it]\n",
      "100%|██████████| 20/20 [00:42<00:00,  2.14s/it]\n",
      "100%|██████████| 20/20 [00:49<00:00,  2.45s/it]\n"
     ]
    },
    {
     "name": "stdout",
     "output_type": "stream",
     "text": [
      "For k=3: Mean=0.9924457462106437, Std=0.001993531020283546, Epoch(conv.)=20\n"
     ]
    },
    {
     "name": "stderr",
     "output_type": "stream",
     "text": [
      "100%|██████████| 20/20 [00:41<00:00,  2.10s/it]\n",
      "100%|██████████| 20/20 [00:45<00:00,  2.28s/it]\n",
      "100%|██████████| 20/20 [00:47<00:00,  2.40s/it]\n",
      "100%|██████████| 20/20 [00:47<00:00,  2.39s/it]\n",
      "100%|██████████| 20/20 [00:47<00:00,  2.38s/it]\n",
      "100%|██████████| 20/20 [00:48<00:00,  2.43s/it]\n",
      "100%|██████████| 20/20 [00:43<00:00,  2.20s/it]\n",
      "100%|██████████| 20/20 [00:43<00:00,  2.18s/it]\n",
      "100%|██████████| 20/20 [00:49<00:00,  2.47s/it]\n",
      "100%|██████████| 20/20 [00:43<00:00,  2.19s/it]\n"
     ]
    },
    {
     "name": "stdout",
     "output_type": "stream",
     "text": [
      "For k=4: Mean=0.9943284000591621, Std=0.0020520114539828343, Epoch(conv.)=20\n"
     ]
    },
    {
     "name": "stderr",
     "output_type": "stream",
     "text": [
      "100%|██████████| 20/20 [00:42<00:00,  2.13s/it]\n",
      "100%|██████████| 20/20 [00:49<00:00,  2.50s/it]\n",
      "100%|██████████| 20/20 [00:41<00:00,  2.07s/it]\n",
      "100%|██████████| 20/20 [00:46<00:00,  2.31s/it]\n",
      "100%|██████████| 20/20 [00:48<00:00,  2.44s/it]\n",
      "100%|██████████| 20/20 [00:49<00:00,  2.47s/it]\n",
      "100%|██████████| 20/20 [00:44<00:00,  2.23s/it]\n",
      "100%|██████████| 20/20 [00:46<00:00,  2.35s/it]\n",
      "100%|██████████| 20/20 [00:45<00:00,  2.29s/it]\n",
      "100%|██████████| 20/20 [00:49<00:00,  2.46s/it]\n"
     ]
    },
    {
     "name": "stdout",
     "output_type": "stream",
     "text": [
      "For k=5: Mean=0.9982485399269084, Std=0.0021598550667388584, Epoch(conv.)=20\n"
     ]
    },
    {
     "name": "stderr",
     "output_type": "stream",
     "text": [
      "100%|██████████| 20/20 [00:49<00:00,  2.46s/it]\n",
      "100%|██████████| 20/20 [00:46<00:00,  2.31s/it]\n",
      "100%|██████████| 20/20 [00:43<00:00,  2.18s/it]\n",
      "100%|██████████| 20/20 [00:46<00:00,  2.34s/it]\n",
      "100%|██████████| 20/20 [00:49<00:00,  2.49s/it]\n",
      "100%|██████████| 20/20 [00:52<00:00,  2.61s/it]\n",
      "100%|██████████| 20/20 [00:39<00:00,  2.00s/it]\n",
      "100%|██████████| 20/20 [00:51<00:00,  2.56s/it]\n",
      "100%|██████████| 20/20 [00:46<00:00,  2.31s/it]\n",
      "100%|██████████| 20/20 [00:41<00:00,  2.07s/it]\n"
     ]
    },
    {
     "name": "stdout",
     "output_type": "stream",
     "text": [
      "For k=6: Mean=1.0018735940669035, Std=0.004553532836424707, Epoch(conv.)=20\n"
     ]
    },
    {
     "name": "stderr",
     "output_type": "stream",
     "text": [
      "100%|██████████| 20/20 [00:47<00:00,  2.36s/it]\n",
      "100%|██████████| 20/20 [00:49<00:00,  2.48s/it]\n",
      "100%|██████████| 20/20 [00:48<00:00,  2.41s/it]\n",
      "100%|██████████| 20/20 [00:42<00:00,  2.12s/it]\n",
      "100%|██████████| 20/20 [00:46<00:00,  2.31s/it]\n",
      "100%|██████████| 20/20 [00:43<00:00,  2.20s/it]\n",
      "100%|██████████| 20/20 [00:48<00:00,  2.42s/it]\n",
      "100%|██████████| 20/20 [00:42<00:00,  2.13s/it]\n",
      "100%|██████████| 20/20 [00:48<00:00,  2.40s/it]\n",
      "100%|██████████| 20/20 [00:45<00:00,  2.27s/it]\n"
     ]
    },
    {
     "name": "stdout",
     "output_type": "stream",
     "text": [
      "For k=7: Mean=1.0025614299047019, Std=0.003740393674394136, Epoch(conv.)=20\n"
     ]
    },
    {
     "name": "stderr",
     "output_type": "stream",
     "text": [
      "100%|██████████| 20/20 [00:46<00:00,  2.31s/it]\n",
      "100%|██████████| 20/20 [00:44<00:00,  2.22s/it]\n",
      "100%|██████████| 20/20 [00:46<00:00,  2.31s/it]\n",
      "100%|██████████| 20/20 [00:48<00:00,  2.44s/it]\n",
      "100%|██████████| 20/20 [00:47<00:00,  2.37s/it]\n",
      "100%|██████████| 20/20 [00:44<00:00,  2.24s/it]\n",
      "100%|██████████| 20/20 [00:46<00:00,  2.31s/it]\n",
      "100%|██████████| 20/20 [00:46<00:00,  2.31s/it]\n",
      "100%|██████████| 20/20 [00:46<00:00,  2.31s/it]\n",
      "100%|██████████| 20/20 [00:46<00:00,  2.34s/it]\n"
     ]
    },
    {
     "name": "stdout",
     "output_type": "stream",
     "text": [
      "For k=8: Mean=1.0043188151726945, Std=0.002398408118007771, Epoch(conv.)=20\n"
     ]
    },
    {
     "name": "stderr",
     "output_type": "stream",
     "text": [
      "100%|██████████| 20/20 [00:45<00:00,  2.26s/it]\n",
      "100%|██████████| 20/20 [00:46<00:00,  2.33s/it]\n",
      "100%|██████████| 20/20 [00:44<00:00,  2.23s/it]\n",
      "100%|██████████| 20/20 [00:45<00:00,  2.26s/it]\n",
      "100%|██████████| 20/20 [00:45<00:00,  2.28s/it]\n",
      "100%|██████████| 20/20 [00:47<00:00,  2.37s/it]\n",
      "100%|██████████| 20/20 [00:47<00:00,  2.37s/it]\n",
      "100%|██████████| 20/20 [00:46<00:00,  2.31s/it]\n",
      "100%|██████████| 20/20 [00:46<00:00,  2.35s/it]\n",
      "100%|██████████| 20/20 [00:46<00:00,  2.32s/it]\n"
     ]
    },
    {
     "name": "stdout",
     "output_type": "stream",
     "text": [
      "For k=9: Mean=1.0051393034730876, Std=0.007493496558033911, Epoch(conv.)=20\n"
     ]
    },
    {
     "name": "stderr",
     "output_type": "stream",
     "text": [
      "100%|██████████| 20/20 [00:43<00:00,  2.19s/it]\n",
      "100%|██████████| 20/20 [00:47<00:00,  2.38s/it]\n",
      "100%|██████████| 20/20 [00:44<00:00,  2.25s/it]\n",
      "100%|██████████| 20/20 [00:45<00:00,  2.28s/it]\n",
      "100%|██████████| 20/20 [00:46<00:00,  2.34s/it]\n",
      "100%|██████████| 20/20 [00:46<00:00,  2.33s/it]\n",
      "100%|██████████| 20/20 [00:48<00:00,  2.44s/it]\n",
      "100%|██████████| 20/20 [00:46<00:00,  2.32s/it]\n",
      "100%|██████████| 20/20 [00:46<00:00,  2.32s/it]\n",
      "100%|██████████| 20/20 [00:45<00:00,  2.27s/it]\n"
     ]
    },
    {
     "name": "stdout",
     "output_type": "stream",
     "text": [
      "For k=10: Mean=1.0046405501511682, Std=0.0031649818096720025, Epoch(conv.)=20\n"
     ]
    },
    {
     "name": "stderr",
     "output_type": "stream",
     "text": [
      "100%|██████████| 20/20 [00:44<00:00,  2.24s/it]\n",
      "100%|██████████| 20/20 [00:45<00:00,  2.30s/it]\n",
      "100%|██████████| 20/20 [00:45<00:00,  2.30s/it]\n",
      "100%|██████████| 20/20 [00:44<00:00,  2.22s/it]\n",
      "100%|██████████| 20/20 [00:45<00:00,  2.28s/it]\n",
      "100%|██████████| 20/20 [00:46<00:00,  2.30s/it]\n",
      "100%|██████████| 20/20 [00:47<00:00,  2.35s/it]\n",
      "100%|██████████| 20/20 [00:48<00:00,  2.41s/it]\n",
      "100%|██████████| 20/20 [00:47<00:00,  2.35s/it]\n",
      "100%|██████████| 20/20 [00:44<00:00,  2.24s/it]\n"
     ]
    },
    {
     "name": "stdout",
     "output_type": "stream",
     "text": [
      "For k=11: Mean=1.0064275155817433, Std=0.002722304142517395, Epoch(conv.)=20\n"
     ]
    },
    {
     "name": "stderr",
     "output_type": "stream",
     "text": [
      "100%|██████████| 20/20 [00:44<00:00,  2.23s/it]\n",
      "100%|██████████| 20/20 [00:47<00:00,  2.35s/it]\n",
      "100%|██████████| 20/20 [00:48<00:00,  2.43s/it]\n",
      "100%|██████████| 20/20 [00:45<00:00,  2.30s/it]\n",
      "100%|██████████| 20/20 [00:46<00:00,  2.35s/it]\n",
      "100%|██████████| 20/20 [00:45<00:00,  2.28s/it]\n",
      "100%|██████████| 20/20 [00:45<00:00,  2.27s/it]\n",
      "100%|██████████| 20/20 [00:48<00:00,  2.41s/it]\n",
      "100%|██████████| 20/20 [00:48<00:00,  2.42s/it]\n",
      "100%|██████████| 20/20 [00:46<00:00,  2.32s/it]\n"
     ]
    },
    {
     "name": "stdout",
     "output_type": "stream",
     "text": [
      "For k=12: Mean=1.0102305396082025, Std=0.005192578437133014, Epoch(conv.)=20\n"
     ]
    },
    {
     "name": "stderr",
     "output_type": "stream",
     "text": [
      "100%|██████████| 20/20 [00:45<00:00,  2.25s/it]\n",
      "100%|██████████| 20/20 [00:46<00:00,  2.32s/it]\n",
      "100%|██████████| 20/20 [00:45<00:00,  2.28s/it]\n",
      "100%|██████████| 20/20 [00:44<00:00,  2.23s/it]\n",
      "100%|██████████| 20/20 [00:44<00:00,  2.24s/it]\n",
      "100%|██████████| 20/20 [00:47<00:00,  2.35s/it]\n",
      "100%|██████████| 20/20 [00:47<00:00,  2.39s/it]\n",
      "100%|██████████| 20/20 [00:45<00:00,  2.25s/it]\n",
      "100%|██████████| 20/20 [00:48<00:00,  2.41s/it]\n",
      "100%|██████████| 20/20 [00:47<00:00,  2.36s/it]\n"
     ]
    },
    {
     "name": "stdout",
     "output_type": "stream",
     "text": [
      "For k=13: Mean=1.01148088810007, Std=0.004786767142916695, Epoch(conv.)=20\n"
     ]
    },
    {
     "name": "stderr",
     "output_type": "stream",
     "text": [
      "100%|██████████| 20/20 [00:46<00:00,  2.31s/it]\n",
      "100%|██████████| 20/20 [00:44<00:00,  2.21s/it]\n",
      "100%|██████████| 20/20 [00:49<00:00,  2.48s/it]\n",
      "100%|██████████| 20/20 [00:43<00:00,  2.16s/it]\n",
      "100%|██████████| 20/20 [00:43<00:00,  2.20s/it]\n",
      "100%|██████████| 20/20 [00:49<00:00,  2.45s/it]\n",
      "100%|██████████| 20/20 [00:47<00:00,  2.38s/it]\n",
      "100%|██████████| 20/20 [00:48<00:00,  2.44s/it]\n",
      "100%|██████████| 20/20 [00:46<00:00,  2.33s/it]\n",
      "100%|██████████| 20/20 [00:43<00:00,  2.18s/it]\n"
     ]
    },
    {
     "name": "stdout",
     "output_type": "stream",
     "text": [
      "For k=14: Mean=1.0154082291619964, Std=0.00583768035401966, Epoch(conv.)=20\n"
     ]
    },
    {
     "name": "stderr",
     "output_type": "stream",
     "text": [
      "100%|██████████| 20/20 [00:48<00:00,  2.44s/it]\n",
      "100%|██████████| 20/20 [00:45<00:00,  2.30s/it]\n",
      "100%|██████████| 20/20 [00:46<00:00,  2.35s/it]\n",
      "100%|██████████| 20/20 [00:50<00:00,  2.52s/it]\n",
      "100%|██████████| 20/20 [00:39<00:00,  1.95s/it]\n",
      "100%|██████████| 20/20 [00:51<00:00,  2.59s/it]\n",
      "100%|██████████| 20/20 [00:43<00:00,  2.20s/it]\n",
      "100%|██████████| 20/20 [00:40<00:00,  2.04s/it]\n",
      "100%|██████████| 20/20 [00:46<00:00,  2.35s/it]\n",
      "100%|██████████| 20/20 [00:49<00:00,  2.49s/it]\n"
     ]
    },
    {
     "name": "stdout",
     "output_type": "stream",
     "text": [
      "For k=15: Mean=1.015946213998828, Std=0.004013557660500394, Epoch(conv.)=20\n"
     ]
    },
    {
     "name": "stderr",
     "output_type": "stream",
     "text": [
      "100%|██████████| 20/20 [00:43<00:00,  2.17s/it]\n",
      "100%|██████████| 20/20 [00:47<00:00,  2.40s/it]\n",
      "100%|██████████| 20/20 [00:45<00:00,  2.25s/it]\n",
      "100%|██████████| 20/20 [00:43<00:00,  2.19s/it]\n",
      "100%|██████████| 20/20 [00:45<00:00,  2.28s/it]\n",
      "100%|██████████| 20/20 [00:47<00:00,  2.35s/it]\n",
      "100%|██████████| 20/20 [00:49<00:00,  2.49s/it]\n",
      "100%|██████████| 20/20 [00:43<00:00,  2.17s/it]\n",
      "100%|██████████| 20/20 [00:45<00:00,  2.29s/it]\n",
      "100%|██████████| 20/20 [00:46<00:00,  2.32s/it]\n"
     ]
    },
    {
     "name": "stdout",
     "output_type": "stream",
     "text": [
      "For k=16: Mean=1.0183809804921535, Std=0.00256918411732366, Epoch(conv.)=20\n"
     ]
    },
    {
     "name": "stderr",
     "output_type": "stream",
     "text": [
      "100%|██████████| 20/20 [00:47<00:00,  2.36s/it]\n",
      "100%|██████████| 20/20 [00:49<00:00,  2.47s/it]\n",
      "100%|██████████| 20/20 [00:45<00:00,  2.25s/it]\n",
      "100%|██████████| 20/20 [00:40<00:00,  2.05s/it]\n",
      "100%|██████████| 20/20 [00:46<00:00,  2.31s/it]\n",
      "100%|██████████| 20/20 [00:47<00:00,  2.35s/it]\n",
      "100%|██████████| 20/20 [00:45<00:00,  2.29s/it]\n",
      "100%|██████████| 20/20 [00:49<00:00,  2.45s/it]\n",
      "100%|██████████| 20/20 [00:40<00:00,  2.01s/it]\n",
      "100%|██████████| 20/20 [00:48<00:00,  2.41s/it]\n"
     ]
    },
    {
     "name": "stdout",
     "output_type": "stream",
     "text": [
      "For k=17: Mean=1.0195463485130378, Std=0.00342410873903795, Epoch(conv.)=20\n"
     ]
    },
    {
     "name": "stderr",
     "output_type": "stream",
     "text": [
      "100%|██████████| 20/20 [00:46<00:00,  2.30s/it]\n",
      "100%|██████████| 20/20 [00:45<00:00,  2.28s/it]\n",
      "100%|██████████| 20/20 [00:47<00:00,  2.35s/it]\n",
      "100%|██████████| 20/20 [00:43<00:00,  2.20s/it]\n",
      "100%|██████████| 20/20 [00:46<00:00,  2.30s/it]\n",
      "100%|██████████| 20/20 [00:47<00:00,  2.39s/it]\n",
      "100%|██████████| 20/20 [00:46<00:00,  2.35s/it]\n",
      "100%|██████████| 20/20 [00:43<00:00,  2.18s/it]\n",
      "100%|██████████| 20/20 [00:50<00:00,  2.51s/it]\n",
      "100%|██████████| 20/20 [00:43<00:00,  2.20s/it]\n"
     ]
    },
    {
     "name": "stdout",
     "output_type": "stream",
     "text": [
      "For k=18: Mean=1.0222039055601786, Std=0.004719928091822584, Epoch(conv.)=20\n"
     ]
    },
    {
     "name": "stderr",
     "output_type": "stream",
     "text": [
      "100%|██████████| 20/20 [00:44<00:00,  2.22s/it]\n",
      "100%|██████████| 20/20 [00:46<00:00,  2.34s/it]\n",
      "100%|██████████| 20/20 [00:47<00:00,  2.38s/it]\n",
      "100%|██████████| 20/20 [00:45<00:00,  2.26s/it]\n",
      "100%|██████████| 20/20 [00:48<00:00,  2.44s/it]\n",
      "100%|██████████| 20/20 [00:44<00:00,  2.21s/it]\n",
      "100%|██████████| 20/20 [00:43<00:00,  2.19s/it]\n",
      "100%|██████████| 20/20 [00:47<00:00,  2.36s/it]\n",
      "100%|██████████| 20/20 [00:48<00:00,  2.42s/it]\n",
      "100%|██████████| 20/20 [00:47<00:00,  2.38s/it]\n"
     ]
    },
    {
     "name": "stdout",
     "output_type": "stream",
     "text": [
      "For k=19: Mean=1.0223744766748957, Std=0.004397476743079837, Epoch(conv.)=20\n"
     ]
    },
    {
     "name": "stderr",
     "output_type": "stream",
     "text": [
      "100%|██████████| 20/20 [00:48<00:00,  2.43s/it]\n",
      "100%|██████████| 20/20 [00:45<00:00,  2.30s/it]\n",
      "100%|██████████| 20/20 [00:43<00:00,  2.17s/it]\n",
      "100%|██████████| 20/20 [00:46<00:00,  2.32s/it]\n",
      "100%|██████████| 20/20 [00:45<00:00,  2.27s/it]\n",
      "100%|██████████| 20/20 [00:47<00:00,  2.39s/it]\n",
      "100%|██████████| 20/20 [00:43<00:00,  2.20s/it]\n",
      "100%|██████████| 20/20 [00:45<00:00,  2.26s/it]\n",
      "100%|██████████| 20/20 [00:48<00:00,  2.41s/it]\n",
      "100%|██████████| 20/20 [00:45<00:00,  2.27s/it]\n"
     ]
    },
    {
     "name": "stdout",
     "output_type": "stream",
     "text": [
      "For k=20: Mean=1.0235195273775943, Std=0.005728227952339363, Epoch(conv.)=20\n"
     ]
    },
    {
     "data": {
      "image/png": "[encoded data removed]",
      "text/plain": [
       "<Figure size 648x360 with 1 Axes>"
      ]
     },
     "metadata": {
      "needs_background": "light"
     },
     "output_type": "display_data"
    }
   ],
   "source": [
    "print(\"SVP finding best projection rank (k) value\")\n",
    "data = dict()\n",
    "for k in range(1,21):\n",
    "    results = []\n",
    "    for idx, (train_set, test_set) in enumerate(kf.split(data_pd)):\n",
    "        train_data = data_pd.iloc[train_set]\n",
    "        test_data = data_pd.iloc[test_set]\n",
    "        \n",
    "        train_matrix = create_matrix_from_raw(train_data)\n",
    "        test_matrix = create_matrix_from_raw(test_data)\n",
    "        \n",
    "        model = SVP(train_matrix,K=k, epochs=20)\n",
    "        result = model.train(test_matrix=test_matrix)\n",
    "        results.append(result)\n",
    "    mean, std, best_epoch = analyse_results(results)\n",
    "    print(f\"For k={k}: Mean={mean}, Std={std}, Epoch(conv.)={best_epoch}\")\n",
    "    data[k] = mean\n",
    "ks = list(data.keys())\n",
    "scores = list(data.values())\n",
    "plot_graph(\"Projection rank\", \"Avg. RMSE\", ks, scores, \"svp\")"
   ]
  },
  {
   "cell_type": "markdown",
   "metadata": {},
   "source": [
    "### Improved Regularized SVD\n",
    "- In this experiment we will learn the best number of features (k)\n",
    "- We will set learning rate to 0.01, $λ_1$ to 0.02 and $λ_2$ to 0.05 (reference paper)\n",
    "- We will learn epochs to converge for free"
   ]
  },
  {
   "cell_type": "code",
   "execution_count": null,
   "metadata": {},
   "outputs": [],
   "source": [
    "print(\"IRSVD finding best number of features (k)\")\n",
    "data = dict()\n",
    "all_results = dict()\n",
    "for k in [75, 125, 175, 225, 275, 325, 375, 425]:\n",
    "    results = []\n",
    "    for idx, (train_set, test_set) in enumerate(kf.split(data_pd)):\n",
    "        train_data = data_pd.iloc[train_set]\n",
    "        test_data = data_pd.iloc[test_set]\n",
    "        \n",
    "        train_matrix = create_matrix_from_raw(train_data)\n",
    "        test_matrix = create_matrix_from_raw(test_data)\n",
    "        \n",
    "        model = IRSVD(train_matrix, biases=\"mean\", features=k, eta=0.01, lambda1=0.02, lambda2=0.05, epochs=18)\n",
    "        result = model.train(test_matrix=test_matrix)\n",
    "        results.append(result)\n",
    "    mean, std, best_epoch = analyse_results(results)\n",
    "    print(f\"For features={k}: Mean={mean}, Std={std}, Epoch(conv.)={best_epoch}\")\n",
    "    print(results)\n",
    "    data[k] = mean\n",
    "    all_results[k] = results\n",
    "ks = list(data.keys())\n",
    "scores = list(data.values())\n",
    "plot_graph(\"Number of features\", \"Avg. RMSE\", ks, scores, \"irsvd\")"
   ]
  },
  {
   "cell_type": "markdown",
   "metadata": {},
   "source": [
    "- In this experiment we will present the event of overfitting for the best value of features."
   ]
  },
  {
   "cell_type": "code",
   "execution_count": null,
   "metadata": {},
   "outputs": [],
   "source": [
    "min_val = min(scores)\n",
    "min_idx = scores.index(min_val)\n",
    "k = ks[min_idx]\n",
    "results = all_results[k][0]\n",
    "plot_graph2(results[\"train_rmse\"], results[\"test_rmse\"], \"irsvd-overfitting\")"
   ]
  },
  {
   "cell_type": "markdown",
   "metadata": {},
   "source": [
    "### Regularized SVD\n",
    "- In this experiment we will learn the best number of features (k)\n",
    "- We will set learning rate to 0.01, $λ$ to 0.02 (reference paper)\n",
    "- We will learn epochs to converge for free"
   ]
  },
  {
   "cell_type": "code",
   "execution_count": 55,
   "metadata": {},
   "outputs": [
    {
     "name": "stdout",
     "output_type": "stream",
     "text": [
      "RSVD finding best number of features (k)\n"
     ]
    },
    {
     "name": "stderr",
     "output_type": "stream",
     "text": [
      "100%|██████████| 18/18 [04:48<00:00, 16.03s/it]\n",
      "100%|██████████| 18/18 [04:46<00:00, 15.91s/it]\n",
      "100%|██████████| 18/18 [04:45<00:00, 15.88s/it]\n",
      "100%|██████████| 18/18 [04:46<00:00, 15.93s/it]\n",
      "100%|██████████| 18/18 [05:06<00:00, 17.02s/it]\n",
      "100%|██████████| 18/18 [05:37<00:00, 18.77s/it]\n",
      "100%|██████████| 18/18 [05:16<00:00, 17.59s/it]\n",
      "100%|██████████| 18/18 [05:35<00:00, 18.62s/it]\n",
      "100%|██████████| 18/18 [05:35<00:00, 18.63s/it]\n",
      "100%|██████████| 18/18 [05:36<00:00, 18.67s/it]\n"
     ]
    },
    {
     "name": "stdout",
     "output_type": "stream",
     "text": [
      "For features=75: Mean=0.9951344528171727, Std=0.0023212187707945912, Epoch(conv.)=13\n"
     ]
    },
    {
     "name": "stderr",
     "output_type": "stream",
     "text": [
      "100%|██████████| 18/18 [05:43<00:00, 19.06s/it]\n",
      "100%|██████████| 18/18 [05:35<00:00, 18.62s/it]\n",
      "100%|██████████| 18/18 [05:39<00:00, 18.86s/it]\n",
      "100%|██████████| 18/18 [05:52<00:00, 19.60s/it]\n",
      "100%|██████████| 18/18 [05:49<00:00, 19.42s/it]\n",
      "100%|██████████| 18/18 [05:49<00:00, 19.40s/it]\n",
      "100%|██████████| 18/18 [05:45<00:00, 19.22s/it]\n",
      "100%|██████████| 18/18 [05:51<00:00, 19.54s/it]\n",
      "100%|██████████| 18/18 [05:54<00:00, 19.71s/it]\n",
      "100%|██████████| 18/18 [05:50<00:00, 19.46s/it]\n"
     ]
    },
    {
     "name": "stdout",
     "output_type": "stream",
     "text": [
      "For features=125: Mean=0.9928397899265928, Std=0.002177541791154287, Epoch(conv.)=12\n"
     ]
    },
    {
     "name": "stderr",
     "output_type": "stream",
     "text": [
      "100%|██████████| 18/18 [06:09<00:00, 20.54s/it]\n",
      "100%|██████████| 18/18 [06:33<00:00, 21.89s/it]\n",
      "100%|██████████| 18/18 [06:21<00:00, 21.19s/it]\n",
      "100%|██████████| 18/18 [06:23<00:00, 21.31s/it]\n",
      "100%|██████████| 18/18 [06:27<00:00, 21.52s/it]\n",
      "100%|██████████| 18/18 [06:22<00:00, 21.27s/it]\n",
      "100%|██████████| 18/18 [06:09<00:00, 20.52s/it]\n",
      "100%|██████████| 18/18 [06:10<00:00, 20.61s/it]\n",
      "100%|██████████| 18/18 [05:40<00:00, 18.92s/it]\n",
      "100%|██████████| 18/18 [05:57<00:00, 19.89s/it]\n"
     ]
    },
    {
     "name": "stdout",
     "output_type": "stream",
     "text": [
      "For features=175: Mean=0.9908178931506406, Std=0.002034141098555055, Epoch(conv.)=14\n"
     ]
    },
    {
     "name": "stderr",
     "output_type": "stream",
     "text": [
      "100%|██████████| 18/18 [06:20<00:00, 21.15s/it]\n",
      "100%|██████████| 18/18 [06:54<00:00, 23.05s/it]\n",
      "100%|██████████| 18/18 [06:51<00:00, 22.85s/it]\n",
      "100%|██████████| 18/18 [06:03<00:00, 20.18s/it]\n",
      "100%|██████████| 18/18 [06:08<00:00, 20.49s/it]\n",
      "100%|██████████| 18/18 [06:06<00:00, 20.34s/it]\n",
      "100%|██████████| 18/18 [05:47<00:00, 19.31s/it]\n",
      " 83%|████████▎ | 15/18 [04:46<01:00, 20.20s/it]"
     ]
    }
   ],
   "source": [
    "print(\"RSVD finding best number of features (k)\")\n",
    "data = dict()\n",
    "for k in [75, 125, 175, 225, 275, 325, 375, 425]:\n",
    "    results = []\n",
    "    for idx, (train_set, test_set) in enumerate(kf.split(data_pd)):\n",
    "        train_data = data_pd.iloc[train_set]\n",
    "        test_data = data_pd.iloc[test_set]\n",
    "        \n",
    "        train_matrix = create_matrix_from_raw(train_data)\n",
    "        test_matrix = create_matrix_from_raw(test_data)\n",
    "        \n",
    "        model = RSVD(train_matrix, features=k, eta=0.01, lambda1=0.02, epochs=18)\n",
    "        result = model.train(test_matrix=test_matrix)\n",
    "        results.append(result)\n",
    "    mean, std, best_epoch = analyse_results(results)\n",
    "    print(f\"For features={k}: Mean={mean}, Std={std}, Epoch(conv.)={best_epoch}\")\n",
    "    data[k] = mean\n",
    "ks = list(data.keys())\n",
    "scores = list(data.values())\n",
    "plot_graph(\"Number of features\", \"Avg. RMSE\", ks, scores, \"rsvd\")"
   ]
  }
 ],
 "metadata": {
  "kernelspec": {
   "display_name": "Python 3.9.7 ('base')",
   "language": "python",
   "name": "python3"
  },
  "language_info": {
   "codemirror_mode": {
    "name": "ipython",
    "version": 3
   },
   "file_extension": ".py",
   "mimetype": "text/x-python",
   "name": "python",
   "nbconvert_exporter": "python",
   "pygments_lexer": "ipython3",
   "version": "3.9.7"
  },
  "orig_nbformat": 4,
  "vscode": {
   "interpreter": {
    "hash": "0a87d56eeac580fc40402592e75d25bb128c24f68de3c5b4d3abca5cf6a5446a"
   }
  }
 },
 "nbformat": 4,
 "nbformat_minor": 2
}
