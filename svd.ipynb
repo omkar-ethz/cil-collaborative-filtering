{
 "cells": [
  {
   "cell_type": "code",
   "execution_count": 1,
   "metadata": {},
   "outputs": [],
   "source": [
    "import pandas as pd\n",
    "import numpy as np\n",
    "from tqdm import tqdm\n",
    "\n",
    "from utils import import_data_to_matrix_split, import_data_to_matrix, extract_submission\n",
    "from utils import zscore_masked_items, get_rmse_score"
   ]
  },
  {
   "cell_type": "markdown",
   "metadata": {},
   "source": [
    "# Vanilla SVD\n",
    "$$A = UΣV^{T}, Σ = diag(σ_1, ..., σ_{min\\{n,m\\}})$$\n",
    "- $U \\in R^{nxn}$ and $V \\in R^{mxm}$, both are orthogonal matrices\n",
    "- Keep only singular values up to K (zero out rest)."
   ]
  },
  {
   "cell_type": "code",
   "execution_count": 2,
   "metadata": {},
   "outputs": [],
   "source": [
    "class SVD():\n",
    "    \n",
    "    def __init__(self, A, K=8):\n",
    "        self.A = A\n",
    "        self.W = (self.A > 0).astype(int)\n",
    "        self.num_users, self.num_items = self.A.shape\n",
    "        self.K = K\n",
    "        self.U = None\n",
    "        self.S = None\n",
    "        self.Vt = None\n",
    "        self.norm_A, self.mean_A, self.stddev_A = zscore_masked_items(self.A, self.W)\n",
    "\n",
    "    def train(self, test_matrix=None):\n",
    "        error_progress = {\n",
    "            \"train_rmse\": [],\n",
    "            \"test_rmse\": [],\n",
    "        }\n",
    "        # SVD decomposition init U and V\n",
    "        self.U, s, self.Vt = np.linalg.svd(self.norm_A, full_matrices=False)\n",
    "        # Using the top k eigenvalues\n",
    "        self.S = np.zeros((self.num_items , self.num_items))\n",
    "        self.S[:self.K, :self.K] = np.diag(s[:self.K])\n",
    "        rec_A = self.reconstruct_matrix()\n",
    "        train_rmse = get_rmse_score(rec_A, self.A)\n",
    "        error_progress[\"train_rmse\"].append(train_rmse)\n",
    "        if test_matrix is not None:\n",
    "            test_rmse = get_rmse_score(rec_A, test_matrix)\n",
    "            error_progress[\"test_rmse\"].append(test_rmse)\n",
    "        return error_progress\n",
    "        \n",
    "    def reconstruct_matrix(self):\n",
    "        \"\"\"\n",
    "        Compute the full matrix using U, S and V from SVD and undo normalization.\n",
    "        \"\"\"\n",
    "        rec_A = (self.U.dot(self.S)).dot(self.Vt)\n",
    "        #undo normalization\n",
    "        for j in range(self.num_items):\n",
    "            rec_A[:,j] *= self.stddev_A[j]\n",
    "            rec_A[:,j] += self.mean_A[j]\n",
    "        return rec_A\n"
   ]
  },
  {
   "cell_type": "code",
   "execution_count": 3,
   "metadata": {},
   "outputs": [],
   "source": [
    "# A, test_matrix = import_data_to_matrix_split()\n",
    "# model = SVD(A, K=12)\n",
    "# model.train(test_matrix=test_matrix)"
   ]
  },
  {
   "cell_type": "code",
   "execution_count": 4,
   "metadata": {},
   "outputs": [],
   "source": [
    "A = import_data_to_matrix()\n",
    "model = SVD(A, K=8)\n",
    "model.train()\n",
    "rec_A = model.reconstruct_matrix()"
   ]
  },
  {
   "cell_type": "code",
   "execution_count": 5,
   "metadata": {},
   "outputs": [],
   "source": [
    "rec_A[rec_A>5] = 5\n",
    "rec_A[rec_A<1] = 1"
   ]
  },
  {
   "cell_type": "code",
   "execution_count": 6,
   "metadata": {},
   "outputs": [],
   "source": [
    "extract_submission(rec_A, file=\"svd\")"
   ]
  }
 ],
 "metadata": {
  "kernelspec": {
   "display_name": "Python 3.9.7 ('base')",
   "language": "python",
   "name": "python3"
  },
  "language_info": {
   "codemirror_mode": {
    "name": "ipython",
    "version": 3
   },
   "file_extension": ".py",
   "mimetype": "text/x-python",
   "name": "python",
   "nbconvert_exporter": "python",
   "pygments_lexer": "ipython3",
   "version": "3.9.7"
  },
  "orig_nbformat": 4,
  "vscode": {
   "interpreter": {
    "hash": "0a87d56eeac580fc40402592e75d25bb128c24f68de3c5b4d3abca5cf6a5446a"
   }
  }
 },
 "nbformat": 4,
 "nbformat_minor": 2
}
