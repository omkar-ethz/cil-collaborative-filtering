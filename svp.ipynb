{
 "cells": [
  {
   "cell_type": "markdown",
   "metadata": {},
   "source": [
    "# Singular Value Projection\n",
    "Results: (with rank k = 3, 10 iterations)\n",
    "- Score: 0.98734 on Kaggle\n",
    "- 0.864232130320197 on training set"
   ]
  },
  {
   "cell_type": "markdown",
   "metadata": {
    "id": "WdZ-qzPO_Mbw"
   },
   "source": [
    "## Packages"
   ]
  },
  {
   "cell_type": "code",
   "execution_count": 2,
   "metadata": {
    "id": "Sr5kvYqx-4kA"
   },
   "outputs": [],
   "source": [
    "import pandas as pd\n",
    "import numpy as np\n",
    "from tqdm import tqdm\n",
    "\n",
    "from utils import import_data_to_matrix, extract_submission\n",
    "from utils import NUMBER_OF_MOVIES, NUMBER_OF_USERS\n",
    "from utils import zscore_masked_items"
   ]
  },
  {
   "cell_type": "markdown",
   "metadata": {
    "id": "flpq9Ir2_WX_"
   },
   "source": [
    "## Data Preprocessings\n",
    "- Extract data to row-column format\n",
    "- Impute missing data with 0\n",
    "- Normalize item by item"
   ]
  },
  {
   "cell_type": "markdown",
   "metadata": {},
   "source": [
    "- Rating matrix A"
   ]
  },
  {
   "cell_type": "code",
   "execution_count": 14,
   "metadata": {
    "id": "wNc3UeBc6gn7"
   },
   "outputs": [],
   "source": [
    "A = import_data_to_matrix()"
   ]
  },
  {
   "cell_type": "markdown",
   "metadata": {},
   "source": [
    "- Observation matrix Ω\n",
    "- Normalize item by item (z-scores)\n",
    "$$A_{ij} = \\frac{A_{ij} - \\overline{A{j}}}{std(A_{j})}$$\n",
    "\n",
    "Important: \n",
    "- Only observed entries are updated\n",
    "- Mean and std is computed only over observed entries"
   ]
  },
  {
   "cell_type": "code",
   "execution_count": 15,
   "metadata": {
    "id": "jJ0yFusFEIrG"
   },
   "outputs": [],
   "source": [
    "W = (A > 0).astype(int)\n",
    "norm_A, mean_A, stddev_A = zscore_masked_items(A, W)"
   ]
  },
  {
   "cell_type": "markdown",
   "metadata": {},
   "source": [
    "## Projected gradient descent\n",
    "$$A^0 = 0$$\n",
    "$$A^{t+1} = [A^t + \\eta\\Pi_{\\Omega}(A - A^t)]_k$$"
   ]
  },
  {
   "cell_type": "code",
   "execution_count": 19,
   "metadata": {
    "id": "Ch_1W50I_sex"
   },
   "outputs": [
    {
     "name": "stderr",
     "output_type": "stream",
     "text": [
      " 10%|█         | 1/10 [00:01<00:15,  1.69s/it]"
     ]
    },
    {
     "name": "stdout",
     "output_type": "stream",
     "text": [
      "k =  3 , RMSE =  0.9770562152608658\n"
     ]
    },
    {
     "name": "stderr",
     "output_type": "stream",
     "text": [
      " 20%|██        | 2/10 [00:03<00:13,  1.69s/it]"
     ]
    },
    {
     "name": "stdout",
     "output_type": "stream",
     "text": [
      "k =  3 , RMSE =  0.9454868226581579\n"
     ]
    },
    {
     "name": "stderr",
     "output_type": "stream",
     "text": [
      " 30%|███       | 3/10 [00:05<00:12,  1.80s/it]"
     ]
    },
    {
     "name": "stdout",
     "output_type": "stream",
     "text": [
      "k =  3 , RMSE =  0.8872251208200558\n"
     ]
    },
    {
     "name": "stderr",
     "output_type": "stream",
     "text": [
      " 40%|████      | 4/10 [00:07<00:10,  1.76s/it]"
     ]
    },
    {
     "name": "stdout",
     "output_type": "stream",
     "text": [
      "k =  3 , RMSE =  0.866360869698915\n"
     ]
    },
    {
     "name": "stderr",
     "output_type": "stream",
     "text": [
      " 50%|█████     | 5/10 [00:08<00:09,  1.80s/it]"
     ]
    },
    {
     "name": "stdout",
     "output_type": "stream",
     "text": [
      "k =  3 , RMSE =  0.8649263478601404\n"
     ]
    },
    {
     "name": "stderr",
     "output_type": "stream",
     "text": [
      " 60%|██████    | 6/10 [00:10<00:07,  1.81s/it]"
     ]
    },
    {
     "name": "stdout",
     "output_type": "stream",
     "text": [
      "k =  3 , RMSE =  0.8644703845574389\n"
     ]
    },
    {
     "name": "stderr",
     "output_type": "stream",
     "text": [
      " 70%|███████   | 7/10 [00:12<00:05,  1.81s/it]"
     ]
    },
    {
     "name": "stdout",
     "output_type": "stream",
     "text": [
      "k =  3 , RMSE =  0.8643108925006058\n"
     ]
    },
    {
     "name": "stderr",
     "output_type": "stream",
     "text": [
      " 80%|████████  | 8/10 [00:14<00:03,  1.92s/it]"
     ]
    },
    {
     "name": "stdout",
     "output_type": "stream",
     "text": [
      "k =  3 , RMSE =  0.8642559854386712\n"
     ]
    },
    {
     "name": "stderr",
     "output_type": "stream",
     "text": [
      " 90%|█████████ | 9/10 [00:16<00:02,  2.02s/it]"
     ]
    },
    {
     "name": "stdout",
     "output_type": "stream",
     "text": [
      "k =  3 , RMSE =  0.8642378486024922\n"
     ]
    },
    {
     "name": "stderr",
     "output_type": "stream",
     "text": [
      "100%|██████████| 10/10 [00:19<00:00,  1.91s/it]"
     ]
    },
    {
     "name": "stdout",
     "output_type": "stream",
     "text": [
      "k =  3 , RMSE =  0.864232130320197\n"
     ]
    },
    {
     "name": "stderr",
     "output_type": "stream",
     "text": [
      "\n"
     ]
    }
   ],
   "source": [
    "def rmse(A, A_t, W):\n",
    "    return np.sum(W*((A-A_t)**2)) / np.sum(W)\n",
    "\n",
    "k = 3\n",
    "iter = 1\n",
    "A_t = np.zeros((NUMBER_OF_USERS , NUMBER_OF_MOVIES))\n",
    "eta = 5.0\n",
    "for epoch in tqdm(range(10)):\n",
    "    residual = norm_A - A_t\n",
    "    temp = A_t + eta * W * residual\n",
    "\n",
    "    # SVD\n",
    "    U, s, Vt = np.linalg.svd(temp, full_matrices=False)\n",
    "    s[k+1:] = 0\n",
    "    # Reconstruction - project temp to space of rank k matrices using SVD computed above\n",
    "    A_t = np.dot(U * s, Vt)\n",
    "\n",
    "    iter+=1\n",
    "    eta = eta / (iter)**(1/2)\n",
    "    print(\"k = \", k, \", RMSE = \", rmse(norm_A, A_t, W))"
   ]
  },
  {
   "cell_type": "markdown",
   "metadata": {},
   "source": [
    "- Undo the normalization."
   ]
  },
  {
   "cell_type": "code",
   "execution_count": 21,
   "metadata": {},
   "outputs": [],
   "source": [
    "rec_A = A_t\n",
    "#undo normalization\n",
    "for j in range(1000):\n",
    "    rec_A[:,j] *= stddev_A[j]\n",
    "    rec_A[:,j] += mean_A[j]"
   ]
  },
  {
   "cell_type": "code",
   "execution_count": 22,
   "metadata": {},
   "outputs": [
    {
     "name": "stdout",
     "output_type": "stream",
     "text": [
      "[[3.34314789 3.48514607 3.43280897 ... 3.24781903 3.3195405  3.64296511]\n",
      " [3.26259308 3.49728658 3.24904276 ... 3.346204   3.26395315 3.54137883]\n",
      " [3.20626646 3.420788   3.29987276 ... 3.15375544 3.09871067 3.23903676]\n",
      " ...\n",
      " [3.33355334 3.44794827 3.50192241 ... 3.13525845 3.24685323 3.49788625]\n",
      " [3.34005564 3.48865605 3.45480456 ... 3.23155588 3.28548591 3.53257135]\n",
      " [3.62937799 3.75831291 3.74855674 ... 3.53885774 3.62052528 3.72692057]]\n"
     ]
    }
   ],
   "source": [
    "print(rec_A)"
   ]
  },
  {
   "cell_type": "markdown",
   "metadata": {
    "id": "XPJUBrFP_dRn"
   },
   "source": [
    "## Export Predictions\n"
   ]
  },
  {
   "cell_type": "code",
   "execution_count": 23,
   "metadata": {
    "id": "pu0u1JOt-Zqq"
   },
   "outputs": [],
   "source": [
    "extract_submission(rec_A, file=\"baseline\")"
   ]
  }
 ],
 "metadata": {
  "kernelspec": {
   "display_name": "Python 3.10.2 ('cil')",
   "language": "python",
   "name": "python3"
  },
  "language_info": {
   "codemirror_mode": {
    "name": "ipython",
    "version": 3
   },
   "file_extension": ".py",
   "mimetype": "text/x-python",
   "name": "python",
   "nbconvert_exporter": "python",
   "pygments_lexer": "ipython3",
   "version": "3.10.4"
  },
  "orig_nbformat": 4,
  "vscode": {
   "interpreter": {
    "hash": "49beda6cbcda4daddaf5fa7c1f859c0e20ecf9f37cbd1708819db2b3dc28a405"
   }
  }
 },
 "nbformat": 4,
 "nbformat_minor": 2
}
