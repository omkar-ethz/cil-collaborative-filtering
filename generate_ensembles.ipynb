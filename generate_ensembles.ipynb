{
 "cells": [
  {
   "cell_type": "code",
   "execution_count": null,
   "metadata": {},
   "outputs": [],
   "source": [
    "import numpy as np\n",
    "import pandas as pd\n",
    "\n",
    "from sklearn.model_selection import KFold\n",
    "from utils import extract_for_ensemble, create_matrix_from_raw, RAND_SEED\n",
    "from models import IRSVD, Baseline, GBias, SVP, SVT, RSVD"
   ]
  },
  {
   "cell_type": "markdown",
   "metadata": {},
   "source": [
    "## KFolds\n",
    "- Split data into 10 folds (90% train set)\n",
    "- Use random state for reproducibility"
   ]
  },
  {
   "cell_type": "code",
   "execution_count": null,
   "metadata": {},
   "outputs": [],
   "source": [
    "data_pd = pd.read_csv(\"./data/data_train.csv\")\n",
    "kf = KFold(n_splits=10, shuffle=True, random_state=RAND_SEED)\n",
    "# Check whether we have the same splits\n",
    "for train_set, test_set in kf.split(data_pd):\n",
    "    print(train_set)\n",
    "    print(test_set)"
   ]
  },
  {
   "cell_type": "markdown",
   "metadata": {},
   "source": [
    "## Models\n",
    "- Predict matrix for different models and parameters\n",
    "- Save the produced matrix for ensemble (for all folds)\n",
    "- Also train on entire dataset"
   ]
  },
  {
   "cell_type": "markdown",
   "metadata": {},
   "source": [
    "### Improved Regularized SVD"
   ]
  },
  {
   "cell_type": "markdown",
   "metadata": {},
   "source": [
    "- For ensemble training"
   ]
  },
  {
   "cell_type": "code",
   "execution_count": null,
   "metadata": {},
   "outputs": [],
   "source": [
    "params = (\n",
    "    (\"mean\", 96, 0.01, 0.02, 0.05, 13),\n",
    "    (\"mean\", 148, 0.01, 0.02, 0.05, 13),\n",
    "    (\"mean\", 296, 0.01, 0.02, 0.05, 14),\n",
    "    (\"mean\", 324, 0.01, 0.02, 0.05, 15),\n",
    "    (\"zero\", 96, 0.01, 0.02, 0.05, 13),\n",
    "    (\"zero\", 148, 0.01, 0.02, 0.05, 13),\n",
    "    (\"zero\", 296, 0.01, 0.02, 0.05, 14),\n",
    "    (\"zero\", 324, 0.01, 0.02, 0.05, 15),\n",
    ")\n",
    "\n",
    "for idx, (train_set, test_set) in enumerate(kf.split(data_pd)):\n",
    "    train_data = data_pd.iloc[train_set]\n",
    "    test_data = data_pd.iloc[test_set]\n",
    "    \n",
    "    train_matrix = create_matrix_from_raw(train_data)\n",
    "    test_matrix = create_matrix_from_raw(test_data)\n",
    "    \n",
    "    for param in params:\n",
    "        biases, features, eta, lambda1, lambda2, epochs = param\n",
    "        fname = \"irsvd_\"+biases+\"_\"+str(features)\n",
    "        print(param)\n",
    "        model = IRSVD(train_matrix, biases=biases, features=features,\n",
    "                      eta=eta, lambda1=lambda1, lambda2=lambda2, epochs=epochs)\n",
    "        print(model.train(test_matrix=test_matrix))\n",
    "        rec_matrix = model.reconstruct_matrix()\n",
    "        extract_for_ensemble(rec_matrix, fname, idx+1, train=True)"
   ]
  },
  {
   "cell_type": "markdown",
   "metadata": {},
   "source": [
    "- Entire dataset training"
   ]
  },
  {
   "cell_type": "code",
   "execution_count": null,
   "metadata": {},
   "outputs": [],
   "source": [
    "params = (\n",
    "    (\"mean\", 96, 0.01, 0.02, 0.05, 13),\n",
    "    (\"mean\", 148, 0.01, 0.02, 0.05, 13),\n",
    "    (\"mean\", 296, 0.01, 0.02, 0.05, 14),\n",
    "    (\"mean\", 324, 0.01, 0.02, 0.05, 15),\n",
    "    (\"zero\", 96, 0.01, 0.02, 0.05, 13),\n",
    "    (\"zero\", 148, 0.01, 0.02, 0.05, 13),\n",
    "    (\"zero\", 296, 0.01, 0.02, 0.05, 14),\n",
    "    (\"zero\", 324, 0.01, 0.02, 0.05, 15),\n",
    ")\n",
    "\n",
    "train_matrix = create_matrix_from_raw(data_pd)\n",
    "for param in params:\n",
    "    biases, features, eta, lambda1, lambda2, epochs = param\n",
    "    fname = \"irsvd_\"+biases+\"_\"+str(features)\n",
    "    print(param)\n",
    "    model = IRSVD(train_matrix, biases=biases, features=features,\n",
    "                    eta=eta, lambda1=lambda1, lambda2=lambda2, epochs=epochs)\n",
    "    print(model.train())\n",
    "    rec_matrix = model.reconstruct_matrix()\n",
    "    extract_for_ensemble(rec_matrix, fname, 0, train=False)"
   ]
  },
  {
   "cell_type": "markdown",
   "metadata": {},
   "source": [
    "### Baseline"
   ]
  },
  {
   "cell_type": "markdown",
   "metadata": {},
   "source": [
    "- For ensemble training"
   ]
  },
  {
   "cell_type": "code",
   "execution_count": null,
   "metadata": {},
   "outputs": [],
   "source": [
    "params = (\n",
    "    (3, 0.1, 3),\n",
    ")\n",
    "\n",
    "for idx, (train_set, test_set) in enumerate(kf.split(data_pd)):\n",
    "    train_data = data_pd.iloc[train_set]\n",
    "    test_data = data_pd.iloc[test_set]\n",
    "    \n",
    "    train_matrix = create_matrix_from_raw(train_data)\n",
    "    test_matrix = create_matrix_from_raw(test_data)\n",
    "    \n",
    "    for param in params:\n",
    "        K, lambda1, epochs = param\n",
    "        fname = \"baseline_\"+str(K)+\"_\"+str(epochs)\n",
    "        print(param)\n",
    "        model = Baseline(train_matrix, K=K, lambda1=lambda1, epochs=epochs)\n",
    "        print(model.train(test_matrix=test_matrix))\n",
    "        rec_matrix = model.reconstruct_matrix()\n",
    "        extract_for_ensemble(rec_matrix, fname, idx+1, train=True)"
   ]
  },
  {
   "cell_type": "markdown",
   "metadata": {},
   "source": [
    "- Entire dataset training"
   ]
  },
  {
   "cell_type": "code",
   "execution_count": null,
   "metadata": {},
   "outputs": [],
   "source": [
    "params = (\n",
    "    (3, 0.1, 3),\n",
    ")\n",
    "\n",
    "train_matrix = create_matrix_from_raw(data_pd)\n",
    "print(data_pd.shape)\n",
    "for param in params:\n",
    "    K, lambda1, epochs = param\n",
    "    fname = \"baseline_\"+str(K)+\"_\"+str(epochs)\n",
    "    print(param)\n",
    "    model = Baseline(train_matrix, K=K, lambda1=lambda1, epochs=epochs)\n",
    "    print(model.train())\n",
    "    rec_matrix = model.reconstruct_matrix()\n",
    "    extract_for_ensemble(rec_matrix, fname, 0, train=False)"
   ]
  },
  {
   "cell_type": "markdown",
   "metadata": {},
   "source": [
    "### Global biases"
   ]
  },
  {
   "cell_type": "markdown",
   "metadata": {},
   "source": [
    "- For ensemble training"
   ]
  },
  {
   "cell_type": "code",
   "execution_count": null,
   "metadata": {},
   "outputs": [],
   "source": [
    "params = (\n",
    "    (0.001, 5),\n",
    ")\n",
    "\n",
    "for idx, (train_set, test_set) in enumerate(kf.split(data_pd)):\n",
    "    train_data = data_pd.iloc[train_set]\n",
    "    test_data = data_pd.iloc[test_set]\n",
    "    \n",
    "    train_matrix = create_matrix_from_raw(train_data)\n",
    "    test_matrix = create_matrix_from_raw(test_data)\n",
    "    \n",
    "    for param in params:\n",
    "        lambda1, epochs = param\n",
    "        fname = \"global_\"+str(epochs)\n",
    "        print(param)\n",
    "        model = GBias(train_matrix, lambda1=lambda1, epochs=epochs)\n",
    "        print(model.train(test_matrix=test_matrix))\n",
    "        rec_matrix = model.reconstruct_matrix()\n",
    "        extract_for_ensemble(rec_matrix, fname, idx+1, train=True)"
   ]
  },
  {
   "cell_type": "markdown",
   "metadata": {},
   "source": [
    "- Entire dataset training"
   ]
  },
  {
   "cell_type": "code",
   "execution_count": null,
   "metadata": {},
   "outputs": [],
   "source": [
    "params = (\n",
    "    (0.001, 5),\n",
    ")\n",
    "\n",
    "train_matrix = create_matrix_from_raw(data_pd)\n",
    "for param in params:\n",
    "    lambda1, epochs = param\n",
    "    fname = \"global_\"+str(epochs)\n",
    "    print(param)\n",
    "    model = GBias(train_matrix, lambda1=lambda1, epochs=epochs)\n",
    "    print(model.train())\n",
    "    rec_matrix = model.reconstruct_matrix()\n",
    "    extract_for_ensemble(rec_matrix, fname, 0, train=False)"
   ]
  },
  {
   "cell_type": "markdown",
   "metadata": {},
   "source": [
    "### SVProjection"
   ]
  },
  {
   "cell_type": "markdown",
   "metadata": {},
   "source": [
    "- For ensemble training"
   ]
  },
  {
   "cell_type": "code",
   "execution_count": null,
   "metadata": {},
   "outputs": [],
   "source": [
    "params = (\n",
    "    (5, 3, 10),\n",
    ")\n",
    "\n",
    "for idx, (train_set, test_set) in enumerate(kf.split(data_pd)):\n",
    "    train_data = data_pd.iloc[train_set]\n",
    "    test_data = data_pd.iloc[test_set]\n",
    "    \n",
    "    train_matrix = create_matrix_from_raw(train_data)\n",
    "    test_matrix = create_matrix_from_raw(test_data)\n",
    "    \n",
    "    for param in params:\n",
    "        eta, K, epochs = param\n",
    "        fname = \"svp_\"+str(eta)+\"_\"+str(K)+\"_\"+str(epochs)\n",
    "        print(param)\n",
    "        model = SVP(train_matrix, eta=eta, K=K, epochs=epochs)\n",
    "        print(model.train(test_matrix=test_matrix))\n",
    "        rec_matrix = model.reconstruct_matrix()\n",
    "        extract_for_ensemble(rec_matrix, fname, idx+1, train=True)"
   ]
  },
  {
   "cell_type": "markdown",
   "metadata": {},
   "source": [
    "- Entire dataset training"
   ]
  },
  {
   "cell_type": "code",
   "execution_count": null,
   "metadata": {},
   "outputs": [],
   "source": [
    "params = (\n",
    "    (5, 3, 10),\n",
    ")\n",
    "\n",
    "train_matrix = create_matrix_from_raw(data_pd)\n",
    "for param in params:\n",
    "    eta, K, epochs = param\n",
    "    fname = \"svp_\"+str(eta)+\"_\"+str(K)+\"_\"+str(epochs)\n",
    "    print(param)\n",
    "    model = SVP(train_matrix, eta=eta, K=K, epochs=epochs)\n",
    "    print(model.train())\n",
    "    rec_matrix = model.reconstruct_matrix()\n",
    "    extract_for_ensemble(rec_matrix, fname, 0, train=False)"
   ]
  },
  {
   "cell_type": "markdown",
   "metadata": {},
   "source": [
    "### Nuclear norm relaxation / SVT"
   ]
  },
  {
   "cell_type": "markdown",
   "metadata": {},
   "source": [
    "- For ensemble training"
   ]
  },
  {
   "cell_type": "code",
   "execution_count": null,
   "metadata": {},
   "outputs": [],
   "source": [
    "params = (\n",
    "    (1.2, 2000, 28),\n",
    "    (1.2, 1000, 15),\n",
    "    (1.2, 1000, 15),\n",
    "    (1.5, 2000, 22),\n",
    ")\n",
    "\n",
    "for idx, (train_set, test_set) in enumerate(kf.split(data_pd)):\n",
    "    train_data = data_pd.iloc[train_set]\n",
    "    test_data = data_pd.iloc[test_set]\n",
    "    \n",
    "    train_matrix = create_matrix_from_raw(train_data)\n",
    "    test_matrix = create_matrix_from_raw(test_data)\n",
    "    \n",
    "    for param in params:\n",
    "        eta, tau, epochs = param\n",
    "        fname = \"svt_\"+str(eta)+\"_\"+str(tau)+\"_\"+str(epochs)\n",
    "        print(param)\n",
    "        model = SVT(train_matrix, eta=eta, tau=tau, epochs=epochs)\n",
    "        print(model.train(test_matrix=test_matrix))\n",
    "        rec_matrix = model.reconstruct_matrix()\n",
    "        extract_for_ensemble(rec_matrix, fname, idx+1, train=True)"
   ]
  },
  {
   "cell_type": "markdown",
   "metadata": {},
   "source": [
    "- Entire dataset training"
   ]
  },
  {
   "cell_type": "code",
   "execution_count": null,
   "metadata": {},
   "outputs": [],
   "source": [
    "params = (\n",
    "    (1.2, 2000, 28),\n",
    "    (1.2, 1000, 15),\n",
    "    (1.2, 1000, 15),\n",
    "    (1.5, 2000, 22),\n",
    ")\n",
    "\n",
    "train_matrix = create_matrix_from_raw(data_pd)\n",
    "for param in params:\n",
    "    eta, tau, epochs = param\n",
    "    fname = \"svt_\"+str(eta)+\"_\"+str(tau)+\"_\"+str(epochs)\n",
    "    print(param)\n",
    "    model = SVT(train_matrix, eta=eta, tau=tau, epochs=epochs)\n",
    "    print(model.train())\n",
    "    rec_matrix = model.reconstruct_matrix()\n",
    "    extract_for_ensemble(rec_matrix, fname, 0, train=False)"
   ]
  },
  {
   "cell_type": "markdown",
   "metadata": {},
   "source": [
    "### Regularized SVD"
   ]
  },
  {
   "cell_type": "markdown",
   "metadata": {},
   "source": [
    "- For ensemble training"
   ]
  },
  {
   "cell_type": "code",
   "execution_count": null,
   "metadata": {},
   "outputs": [],
   "source": [
    "params = (\n",
    "    (96, 0.01, 0.02, 13),\n",
    ")\n",
    "\n",
    "for idx, (train_set, test_set) in enumerate(kf.split(data_pd)):\n",
    "    train_data = data_pd.iloc[train_set]\n",
    "    test_data = data_pd.iloc[test_set]\n",
    "    \n",
    "    train_matrix = create_matrix_from_raw(train_data)\n",
    "    test_matrix = create_matrix_from_raw(test_data)\n",
    "    \n",
    "    for param in params:\n",
    "        features, eta, lambda1, epochs = param\n",
    "        fname = \"rsvd_\"+str(features)+\"_\"+str(epochs)\n",
    "        print(param)\n",
    "        model = RSVD(train_matrix, features=features,\n",
    "                      eta=eta, lambda1=lambda1, epochs=epochs)\n",
    "        print(model.train(test_matrix=test_matrix))\n",
    "        rec_matrix = model.reconstruct_matrix()\n",
    "        extract_for_ensemble(rec_matrix, fname, idx+1, train=True)"
   ]
  },
  {
   "cell_type": "markdown",
   "metadata": {},
   "source": [
    "- Entire dataset training"
   ]
  },
  {
   "cell_type": "code",
   "execution_count": null,
   "metadata": {},
   "outputs": [],
   "source": [
    "params = (\n",
    "    (96, 0.01, 0.02, 13),\n",
    ")\n",
    "\n",
    "train_matrix = create_matrix_from_raw(data_pd)\n",
    "for param in params:\n",
    "    features, eta, lambda1, epochs = param\n",
    "    fname = \"rsvd_\"+str(features)+\"_\"+str(epochs)\n",
    "    print(param)\n",
    "    model = RSVD(train_matrix, features=features,\n",
    "                    eta=eta, lambda1=lambda1, epochs=epochs)\n",
    "    print(model.train())\n",
    "    rec_matrix = model.reconstruct_matrix()\n",
    "    extract_for_ensemble(rec_matrix, fname, 0, train=False)"
   ]
  }
 ],
 "metadata": {
  "kernelspec": {
   "display_name": "Python 3.9.7 ('base')",
   "language": "python",
   "name": "python3"
  },
  "language_info": {
   "codemirror_mode": {
    "name": "ipython",
    "version": 3
   },
   "file_extension": ".py",
   "mimetype": "text/x-python",
   "name": "python",
   "nbconvert_exporter": "python",
   "pygments_lexer": "ipython3",
   "version": "3.9.7"
  },
  "orig_nbformat": 4,
  "vscode": {
   "interpreter": {
    "hash": "0a87d56eeac580fc40402592e75d25bb128c24f68de3c5b4d3abca5cf6a5446a"
   }
  }
 },
 "nbformat": 4,
 "nbformat_minor": 2
}
