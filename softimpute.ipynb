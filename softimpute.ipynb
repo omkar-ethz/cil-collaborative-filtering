{
 "cells": [
  {
   "cell_type": "code",
   "execution_count": null,
   "metadata": {},
   "outputs": [],
   "source": [
    "import numpy as np\n",
    "\n",
    "from tqdm import tqdm\n",
    "from utils import zscore_masked_items, get_rmse_score\n",
    "from fancyimpute import SoftImpute, BiScaler"
   ]
  },
  {
   "cell_type": "markdown",
   "metadata": {},
   "source": [
    "## SoftImpute"
   ]
  },
  {
   "cell_type": "code",
   "execution_count": null,
   "metadata": {},
   "outputs": [],
   "source": [
    "class SoftImputeBiscaler():\n",
    "\n",
    "    def __init__(self, A, max_rank=3, max_iters=10, n_power_iterations=100):\n",
    "        self.A = A\n",
    "        self.max_rank = max_rank\n",
    "        self.max_iters = max_iters\n",
    "        self.n_power_iterations = n_power_iterations\n",
    "        self.solver = None\n",
    "        self.scaler = None\n",
    "        self.rec_A = None\n",
    "\n",
    "    def train(self, test_matrix=None):\n",
    "        error_progress = {\n",
    "            \"train_rmse\": [],\n",
    "            \"test_rmse\": [],\n",
    "        }\n",
    "        self.solver = SoftImpute(max_rank=self.max_rank, max_iters=self.max_iters,\n",
    "                                 n_power_iterations=self.n_power_iterations\n",
    "                                 )\n",
    "        self.scaler = BiScaler(min_value=1, max_value=5)\n",
    "        \n",
    "        data_normalized = self.scaler.fit_transform(np.copy(self.A))\n",
    "        prediction_norm = self.solver.fit_transform(data_normalized)\n",
    "        self.rec_A = self.scaler.inverse_transform(prediction_norm)\n",
    "        \n",
    "        train_rmse = get_rmse_score(self.rec_A, self.A)\n",
    "        error_progress[\"train_rmse\"].append(train_rmse)\n",
    "        if test_matrix is not None:\n",
    "            test_rmse = get_rmse_score(self.rec_A, test_matrix)\n",
    "            error_progress[\"test_rmse\"].append(test_rmse)\n",
    "        # print(error_progress)\n",
    "        return error_progress\n",
    "\n",
    "    def reconstruct_matrix(self):\n",
    "        \"\"\"\n",
    "        Compute the full matrix using the solver\n",
    "        \"\"\"\n",
    "        return self.rec_A"
   ]
  },
  {
   "cell_type": "code",
   "execution_count": null,
   "metadata": {},
   "outputs": [],
   "source": [
    "# A, test_matrix = import_data_to_matrix_split()\n",
    "# model = SoftImputeBiscaler(max_rank=3, max_iters=10, n_power_iterations=100)\n",
    "# model.train(test_matrix=test_matrix)"
   ]
  },
  {
   "cell_type": "code",
   "execution_count": null,
   "metadata": {},
   "outputs": [],
   "source": [
    "A = import_data_to_matrix()\n",
    "model = SoftImputeBiscaler(max_rank=3, max_iters=10, n_power_iterations=100)\n",
    "model.train()\n",
    "rec_A = model.reconstruct_matrix()"
   ]
  },
  {
   "cell_type": "code",
   "execution_count": null,
   "metadata": {},
   "outputs": [],
   "source": [
    "rec_A[rec_A>5] = 5\n",
    "rec_A[rec_A<1] = 1"
   ]
  },
  {
   "cell_type": "code",
   "execution_count": null,
   "metadata": {},
   "outputs": [],
   "source": [
    "extract_submission(rec_A, file=\"softimpute\")"
   ]
  }
 ],
 "metadata": {
  "language_info": {
   "name": "python"
  },
  "orig_nbformat": 4
 },
 "nbformat": 4,
 "nbformat_minor": 2
}
