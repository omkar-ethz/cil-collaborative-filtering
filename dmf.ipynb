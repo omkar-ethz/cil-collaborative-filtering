{
 "cells": [
  {
   "cell_type": "code",
   "execution_count": null,
   "metadata": {},
   "outputs": [],
   "source": [
    "import mxnet as mx\n",
    "import pandas as pd\n",
    "import numpy as np\n",
    "from tqdm import tqdm\n",
    "\n",
    "from utils import import_data_to_matrix_split, extract_submission, import_data_to_matrix\n",
    "from utils import get_rmse_score"
   ]
  },
  {
   "cell_type": "markdown",
   "metadata": {},
   "source": [
    "# Deep Matrix Factorization"
   ]
  },
  {
   "cell_type": "code",
   "execution_count": null,
   "metadata": {},
   "outputs": [],
   "source": [
    "class DMF():\n",
    "    def __init__(self, A, batch_size=1024, dim_user=15, dim_movie=15, epochs=10):\n",
    "        self.A = A\n",
    "        self.num_users, self.num_items = self.A.shape\n",
    "        self.train_users, self.train_items = self.A.nonzero()\n",
    "        self.train_ratings = A[self.train_users, self.train_items]\n",
    "        self.num_users, self.num_items = self.A.shape\n",
    "        self.batch_size = batch_size\n",
    "        self.dim_user = dim_user\n",
    "        self.dim_movie = dim_movie\n",
    "        self.epochs = epochs\n",
    "\n",
    "\n",
    "    def train(self, test_matrix=None):\n",
    "        X_train = mx.io.NDArrayIter({'user': self.train_users, 'movie': self.train_items}, \n",
    "                            label=self.train_ratings, batch_size=self.batch_size)\n",
    "        \n",
    "        if test_matrix is not None:\n",
    "            test_users, test_items = test_matrix.nonzero()\n",
    "            test_ratings = test_matrix[test_users, test_items]\n",
    "            X_eval = mx.io.NDArrayIter({'user': test_users, 'movie': test_items}, \n",
    "                            label=test_ratings, batch_size=self.batch_size)\n",
    "        else:\n",
    "            X_eval = None\n",
    "        user = mx.symbol.Variable(\"user\")\n",
    "        user = mx.symbol.Embedding(data=user, input_dim=self.num_users, output_dim=self.dim_user)\n",
    "\n",
    "        movie = mx.symbol.Variable(\"movie\")\n",
    "        movie = mx.symbol.Embedding(data=movie, input_dim=self.num_items, output_dim=self.dim_movie)\n",
    "\n",
    "        y_true = mx.symbol.Variable(\"softmax_label\")\n",
    "\n",
    "        nn = mx.symbol.concat(user, movie)\n",
    "        nn = mx.symbol.flatten(nn)\n",
    "        nn = mx.symbol.FullyConnected(data=nn, num_hidden=64)\n",
    "        nn = mx.symbol.BatchNorm(data=nn) # First batch norm layer here, before the activaton!\n",
    "        nn = mx.symbol.Activation(data=nn, act_type='relu') \n",
    "        nn = mx.symbol.FullyConnected(data=nn, num_hidden=64)\n",
    "        nn = mx.symbol.BatchNorm(data=nn) # Second batch norm layer here, before the activation!\n",
    "        nn = mx.symbol.Activation(data=nn, act_type='relu')\n",
    "        nn = mx.symbol.FullyConnected(data=nn, num_hidden=1)\n",
    "\n",
    "        y_pred = mx.symbol.LinearRegressionOutput(data=nn, label=y_true)\n",
    "\n",
    "        self.model = mx.module.Module(context=mx.cpu(), data_names=('user', 'movie'), symbol=y_pred)\n",
    "        self.model.fit(X_train, num_epoch=self.epochs, optimizer='adam', optimizer_params=(('learning_rate', 0.001),),\n",
    "                eval_metric='rmse', eval_data=X_eval, batch_end_callback=mx.callback.Speedometer(self.batch_size, 256))\n",
    "\n",
    "    \n",
    "    def reconstruct_matrix(self):\n",
    "        \"\"\"\n",
    "        Compute the full matrix\n",
    "        \"\"\"\n",
    "        indices = np.indices((self.num_users, self.num_items))\n",
    "        total = self.num_users * self.num_items\n",
    "        X_test = mx.io.NDArrayIter({'user': indices[0].reshape(total), \n",
    "            'movie': indices[1].reshape(total)}, batch_size=self.batch_size)\n",
    "        test_preds = self.model.predict(X_test)\n",
    "        rec_A = test_preds.asnumpy().reshape((self.num_users, self.num_items))\n",
    "        return rec_A"
   ]
  },
  {
   "cell_type": "code",
   "execution_count": null,
   "metadata": {},
   "outputs": [],
   "source": [
    "A = import_data_to_matrix()\n",
    "model = DMF(A, batch_size=1024, dim_user=15, dim_movie=15, epochs=10)\n",
    "model.train()\n",
    "rec_A = model.reconstruct_matrix()"
   ]
  },
  {
   "cell_type": "code",
   "execution_count": null,
   "metadata": {},
   "outputs": [],
   "source": [
    "rec_A[rec_A>5] = 5\n",
    "rec_A[rec_A<1] = 1"
   ]
  },
  {
   "cell_type": "code",
   "execution_count": null,
   "metadata": {},
   "outputs": [],
   "source": [
    "extract_submission(rec_A, file=\"dmf\")"
   ]
  }
 ],
 "metadata": {
  "language_info": {
   "name": "python"
  },
  "orig_nbformat": 4
 },
 "nbformat": 4,
 "nbformat_minor": 2
}
