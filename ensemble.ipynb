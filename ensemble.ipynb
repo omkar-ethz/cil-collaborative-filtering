{
 "cells": [
  {
   "cell_type": "code",
   "execution_count": null,
   "metadata": {},
   "outputs": [],
   "source": [
    "import numpy as np\n",
    "import pandas as pd\n",
    "import os\n",
    "\n",
    "from sklearn.model_selection import KFold\n",
    "from utils import create_matrix_from_raw, user_movies_pred, extract_submission\n",
    "from utils import RAND_SEED"
   ]
  },
  {
   "cell_type": "markdown",
   "metadata": {},
   "source": [
    "## Stacking Ensemble - Blending\n",
    "Assuming we have $n$ models and the reconstructed matrix by the\n",
    "$i$-th model is denoted by $\\hat{A}$, the final prediction would be\n",
    "$$\\hat{A} = w_0 + \\sum_{i=1}^{n}w_i \\hat{A}^i$$\n",
    "\n",
    "$\\hat{A}^i$ fixed, only learn $w_i$ for $i = 0, 1, ..., n$\n",
    "\n",
    "We split the data into training and holdout set (say 90% - 10%). The level-0 $n$ models are trained on the training set. The weights $w_i$ of the level-1 ensemble model are then learned on the holdout set.\n",
    "\n",
    "### Improvement\n",
    "- K=10 Fold Cross Validation, and average over weights to get final weights of Ensemble\n",
    "- All models were produced as shown in generate_ensembles.ipynb"
   ]
  },
  {
   "cell_type": "code",
   "execution_count": null,
   "metadata": {},
   "outputs": [],
   "source": [
    "class Ensemble():\n",
    "    \n",
    "    def __init__(self, num_folds=10):\n",
    "        self.num_folds = num_folds\n",
    "        if self.num_folds not in range(1,11):\n",
    "            self.num_folds = 1\n",
    "        self.data_pd = pd.read_csv(\"./data/data_train.csv\")\n",
    "        self.sample_pd = pd.read_csv(\"./data/sampleSubmission.csv\")\n",
    "        self.kf = KFold(n_splits=10, shuffle=True, random_state=RAND_SEED)\n",
    "        self.weights = None\n",
    "        self.avg_weights = None\n",
    "    \n",
    "    def train(self):\n",
    "        for idx, (train_set, val_set) in enumerate(self.kf.split(self.data_pd)):\n",
    "            if idx == self.num_folds: break\n",
    "            \n",
    "            train_data = self.data_pd.iloc[train_set]\n",
    "            val_data = self.data_pd.iloc[val_set]\n",
    "            \n",
    "            train_matrix = create_matrix_from_raw(train_data)\n",
    "            val_users, val_movies, val_pred = user_movies_pred(val_data)\n",
    "                        \n",
    "            X_ensemble = np.ones((1, val_pred.shape[0]))\n",
    "            \n",
    "            path = \"./data/ensemble/train/\"+str(idx+1)+\"/\"\n",
    "            for file in os.listdir(path):\n",
    "                if file.endswith(\".npy\"):\n",
    "                    rec_A = np.load(os.path.join(path, file))\n",
    "                    pred = rec_A[val_users, val_movies]\n",
    "                    X_ensemble = np.vstack([X_ensemble, pred])\n",
    "            X_ensemble = X_ensemble.T\n",
    "            \n",
    "            b, _, _, _ = np.linalg.lstsq(X_ensemble, val_pred, rcond=None)\n",
    "            if self.weights is None:\n",
    "                self.weights = b\n",
    "            else:\n",
    "                self.weights = np.vstack([self.weights, b])\n",
    "        \n",
    "        self.avg_weights = self.weights.sum(axis=0)/self.num_folds\n",
    "    \n",
    "    def reconstruct_matrix(self):\n",
    "        \"\"\"\n",
    "        Reconstruct matrix based on the ensemble weights, on full trained models\n",
    "        \"\"\"\n",
    "        rec_A = None\n",
    "        path = \"./data/ensemble/final/\"\n",
    "        idx = 1\n",
    "        for file in os.listdir(path):\n",
    "            if file.endswith(\".npy\"):\n",
    "                if rec_A is None:\n",
    "                    rec_A = np.load(os.path.join(path, file)) * self.avg_weights[idx]\n",
    "                    print(self.avg_weights[idx])\n",
    "                rec_A += np.load(os.path.join(path, file)) * self.avg_weights[idx]\n",
    "                idx += 1\n",
    "        rec_A += np.ones((rec_A.shape[0], rec_A.shape[1])) * self.avg_weights[0]\n",
    "        return rec_A"
   ]
  },
  {
   "cell_type": "code",
   "execution_count": null,
   "metadata": {},
   "outputs": [],
   "source": [
    "model = Ensemble()\n",
    "model.train()\n",
    "rec_A = model.reconstruct_matrix()"
   ]
  },
  {
   "cell_type": "code",
   "execution_count": null,
   "metadata": {},
   "outputs": [],
   "source": [
    "rec_A[rec_A>5] = 5\n",
    "rec_A[rec_A<1] = 1"
   ]
  },
  {
   "cell_type": "code",
   "execution_count": null,
   "metadata": {},
   "outputs": [],
   "source": [
    "extract_submission(rec_A, file=\"ensemble\")"
   ]
  }
 ],
 "metadata": {
  "kernelspec": {
   "display_name": "Python 3.9.7 ('base')",
   "language": "python",
   "name": "python3"
  },
  "language_info": {
   "codemirror_mode": {
    "name": "ipython",
    "version": 3
   },
   "file_extension": ".py",
   "mimetype": "text/x-python",
   "name": "python",
   "nbconvert_exporter": "python",
   "pygments_lexer": "ipython3",
   "version": "3.9.7"
  },
  "orig_nbformat": 4,
  "vscode": {
   "interpreter": {
    "hash": "0a87d56eeac580fc40402592e75d25bb128c24f68de3c5b4d3abca5cf6a5446a"
   }
  }
 },
 "nbformat": 4,
 "nbformat_minor": 2
}
