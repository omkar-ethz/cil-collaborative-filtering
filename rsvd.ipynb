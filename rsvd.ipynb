{
 "cells": [
  {
   "cell_type": "code",
   "execution_count": null,
   "metadata": {},
   "outputs": [],
   "source": [
    "import pandas as pd\n",
    "import numpy as np\n",
    "from tqdm import tqdm\n",
    "\n",
    "from utils import import_data_to_matrix_split, extract_submission, import_data_to_matrix\n",
    "from utils import get_rmse_score"
   ]
  },
  {
   "cell_type": "markdown",
   "metadata": {},
   "source": [
    "# Reqularized SVD\n",
    "- Inspired by gradient descent\n",
    "\n",
    "## Data Preprocessings\n",
    "- Extract data to row-column format\n",
    "- Impute missing data with 0\n",
    "- Rating matrix $A \\in R^{nxm}$\n",
    "- Observation matrix Ω\n",
    "\n",
    "## Method Description\n",
    "### Matrices and initialization\n",
    "- Matrices\n",
    "$$U \\in R^{nxk}, V \\in R^{mxk}$$\n",
    "\n",
    "- $U$ and $V$ are initialized by drawing numbers from a normal distribution with mean=0 and std=$\\frac{1}{k}$\n",
    "\n",
    "### Estimation of matrix entry\n",
    "$$\\hat{a_{ij}} = u_i^{T}v_j$$\n",
    "where $u_i$ and $v_j$ are the ith and jth rows of $U$ and $V$ respectively.\n",
    "\n",
    "### Variables update with gradient descent (for observed entry $a_{ij}$)\n",
    "- Objective function\n",
    "$$l(U, V, B_u, B_i) = \\frac{1}{2}||A - UV^T||_{F}^{2} + \\frac{λ}{2}(||U||_{F}^{2} + ||V||_{F}^{2})$$\n",
    "- After differentiation we get the following update rules:\n",
    "$$u_{ik} += η[(a_{ij}-(μ + b_{(i,.)} + b_{(.,j)} + u_i^{T}v_j))v_{jk} - λ_{1}u_{ik}]$$\n",
    "$$v_{jk} += η[(a_{ij}-(μ + b_{(i,.)} + b_{(.,j)} + u_i^{T}v_j))u_{ik} - λ_{1}v_{jk}]$$\n",
    "- All updates are performed simultaneously.\n",
    "\n",
    "### Reconstruction\n",
    "- Same as with estimation above"
   ]
  },
  {
   "cell_type": "code",
   "execution_count": null,
   "metadata": {},
   "outputs": [],
   "source": [
    "class RSVD():\n",
    "\n",
    "    def __init__(self, A, features=325, eta=0.01, lambda1=0.02, epochs=15):\n",
    "        \"\"\"\n",
    "        Perform matrix decomposition to predict empty\n",
    "        entries in a matrix.\n",
    "        \"\"\"\n",
    "        self.A = A\n",
    "        train_users, train_items = self.A.nonzero()\n",
    "        self.train_entries = [(user, item, self.A[user][item]) \n",
    "                              for user, item in zip(train_users, train_items)]\n",
    "        self.W = (self.A > 0).astype(int)\n",
    "        self.num_users, self.num_items = self.A.shape\n",
    "        self.features = features\n",
    "        self.eta = eta\n",
    "        self.lambda1 = lambda1\n",
    "        self.epochs = epochs\n",
    "        \n",
    "        # Initialize user and item latent feature matrice\n",
    "        self.U = np.random.normal(scale=1./self.features, size=(self.num_users, self.features))\n",
    "        self.V = np.random.normal(scale=1./self.features, size=(self.num_items, self.features))\n",
    "\n",
    "    def train(self, test_matrix=None):\n",
    "        # Perform stochastic gradient descent for number of epochs\n",
    "        error_progress = {\n",
    "            \"train_rmse\": [],\n",
    "            \"test_rmse\": [],\n",
    "        }\n",
    "        for epoch in tqdm(range(self.epochs)):\n",
    "            # shuffling will help during training\n",
    "            np.random.shuffle(self.train_entries)\n",
    "            # print(\"Entering sgd\")\n",
    "            self._sgd()\n",
    "            # print(\"Finishing sgd\")\n",
    "            rec_A = self.reconstruct_matrix()\n",
    "            train_rmse = get_rmse_score(rec_A, self.A)\n",
    "            error_progress[\"train_rmse\"].append(train_rmse)\n",
    "            if test_matrix is not None:\n",
    "                test_rmse = get_rmse_score(rec_A, test_matrix)\n",
    "                error_progress[\"test_rmse\"].append(test_rmse)\n",
    "            # print(error_progress)\n",
    "        return error_progress\n",
    "\n",
    "    def _sgd(self):\n",
    "        \"\"\"\n",
    "        Perform stochastic gradient descent\n",
    "        \"\"\"\n",
    "        for user, item, rating in self.train_entries:\n",
    "            # Compute prediction and error\n",
    "            prediction = np.dot(self.U[user, :], self.V[item, :].T)\n",
    "            error = (rating - prediction)\n",
    "\n",
    "            # Update user and item feature matrices\n",
    "            temp_U = np.copy(self.U[user, :])\n",
    "            self.U[user, :] += self.eta * (error * self.V[item, :] - self.lambda1 * self.U[user,:])\n",
    "            self.V[item, :] += self.eta * (error * temp_U - self.lambda1 * self.V[item,:])\n",
    "\n",
    "    def reconstruct_matrix(self):\n",
    "        \"\"\"\n",
    "        Compute the reconstructed matrix using U and V\n",
    "        \"\"\"\n",
    "        return np.dot(self.U, self.V.T)"
   ]
  },
  {
   "cell_type": "code",
   "execution_count": null,
   "metadata": {},
   "outputs": [],
   "source": [
    "# A, test_matrix = import_data_to_matrix_split()\n",
    "# model = RSVD(A, features=324, eta=0.01, lambda1=0.02, epochs=15)\n",
    "# model.train(test_matrix=test_matrix)"
   ]
  },
  {
   "cell_type": "code",
   "execution_count": null,
   "metadata": {},
   "outputs": [],
   "source": [
    "A = import_data_to_matrix()\n",
    "model = RSVD(A, features=325, eta=0.01, lambda1=0.02, epochs=15)\n",
    "model.train()\n",
    "rec_A = model.reconstruct_matrix()"
   ]
  },
  {
   "cell_type": "code",
   "execution_count": null,
   "metadata": {},
   "outputs": [],
   "source": [
    "rec_A[rec_A>5] = 5\n",
    "rec_A[rec_A<1] = 1"
   ]
  },
  {
   "cell_type": "code",
   "execution_count": 10,
   "metadata": {},
   "outputs": [],
   "source": [
    "extract_submission(rec_A, file=\"rsvd\")"
   ]
  }
 ],
 "metadata": {
  "kernelspec": {
   "display_name": "Python 3.9.7 ('base')",
   "language": "python",
   "name": "python3"
  },
  "language_info": {
   "codemirror_mode": {
    "name": "ipython",
    "version": 3
   },
   "file_extension": ".py",
   "mimetype": "text/x-python",
   "name": "python",
   "nbconvert_exporter": "python",
   "pygments_lexer": "ipython3",
   "version": "3.9.7"
  },
  "orig_nbformat": 4,
  "vscode": {
   "interpreter": {
    "hash": "0a87d56eeac580fc40402592e75d25bb128c24f68de3c5b4d3abca5cf6a5446a"
   }
  }
 },
 "nbformat": 4,
 "nbformat_minor": 2
}
