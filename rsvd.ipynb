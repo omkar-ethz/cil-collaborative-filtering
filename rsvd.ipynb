{
 "cells": [
  {
   "cell_type": "code",
   "execution_count": 1,
   "metadata": {},
   "outputs": [],
   "source": [
    "import pandas as pd\n",
    "import numpy as np\n",
    "from tqdm import tqdm\n",
    "\n",
    "from utils import import_data_to_matrix_split, extract_submission, import_data_to_matrix\n",
    "from utils import get_rmse_score"
   ]
  },
  {
   "cell_type": "code",
   "execution_count": 2,
   "metadata": {},
   "outputs": [],
   "source": [
    "class RSVD():\n",
    "\n",
    "    def __init__(self, A, features=324, eta=0.01, lambda1=0.02, epochs=15):\n",
    "        \"\"\"\n",
    "        Perform matrix decomposition to predict empty\n",
    "        entries in a matrix.\n",
    "        \"\"\"\n",
    "        self.A = A\n",
    "        train_users, train_items = self.A.nonzero()\n",
    "        self.train_entries = [(user, item, self.A[user][item]) \n",
    "                              for user, item in zip(train_users, train_items)]\n",
    "        self.W = (self.A > 0).astype(int)\n",
    "        self.num_users, self.num_items = self.A.shape\n",
    "        self.features = features\n",
    "        self.eta = eta\n",
    "        self.lambda1 = lambda1\n",
    "        self.epochs = epochs\n",
    "        \n",
    "        # Initialize user and item latent feature matrice\n",
    "        self.U = np.random.normal(scale=1./self.features, size=(self.num_users, self.features))\n",
    "        self.V = np.random.normal(scale=1./self.features, size=(self.num_items, self.features))\n",
    "\n",
    "    def train(self, test_matrix=None):\n",
    "        # Perform stochastic gradient descent for number of epochs\n",
    "        error_progress = {\n",
    "            \"train_rmse\": [],\n",
    "            \"test_rmse\": [],\n",
    "        }\n",
    "        for epoch in tqdm(range(self.epochs)):\n",
    "            # shuffling will help during training\n",
    "            np.random.shuffle(self.train_entries)\n",
    "            # print(\"Entering sgd\")\n",
    "            self._sgd()\n",
    "            # print(\"Finishing sgd\")\n",
    "            rec_A = self.reconstruct_matrix()\n",
    "            train_rmse = get_rmse_score(rec_A, self.A)\n",
    "            error_progress[\"train_rmse\"].append(train_rmse)\n",
    "            if test_matrix is not None:\n",
    "                test_rmse = get_rmse_score(rec_A, test_matrix)\n",
    "                error_progress[\"test_rmse\"].append(test_rmse)\n",
    "            # print(error_progress)\n",
    "        return error_progress\n",
    "\n",
    "    def _sgd(self):\n",
    "        \"\"\"\n",
    "        Perform stochastic gradient descent\n",
    "        \"\"\"\n",
    "        for user, item, rating in self.train_entries:\n",
    "            # Compute prediction and error\n",
    "            prediction = np.dot(self.U[user, :], self.V[item, :].T)\n",
    "            error = (rating - prediction)\n",
    "\n",
    "            # Update user and item feature matrices\n",
    "            temp_U = np.copy(self.U[user, :])\n",
    "            self.U[user, :] += self.eta * (error * self.V[item, :] - self.lambda1 * self.U[user,:])\n",
    "            self.V[item, :] += self.eta * (error * temp_U - self.lambda1 * self.V[item,:])\n",
    "\n",
    "    def reconstruct_matrix(self):\n",
    "        \"\"\"\n",
    "        Compute the reconstructed matrix using U and V\n",
    "        \"\"\"\n",
    "        return np.dot(self.U, self.V.T)"
   ]
  },
  {
   "cell_type": "code",
   "execution_count": null,
   "metadata": {},
   "outputs": [],
   "source": [
    "# A, test_matrix = import_data_to_matrix_split()\n",
    "# model = RSVD(A, features=324, eta=0.01, lambda1=0.02, epochs=15)\n",
    "# model.train(test_matrix=test_matrix)"
   ]
  },
  {
   "cell_type": "code",
   "execution_count": null,
   "metadata": {},
   "outputs": [],
   "source": [
    "A = import_data_to_matrix()\n",
    "model = IRSVD(A, features=324, eta=0.01, lambda1=0.02, epochs=15)\n",
    "model.train()\n",
    "rec_A = model.reconstruct_matrix()"
   ]
  },
  {
   "cell_type": "code",
   "execution_count": null,
   "metadata": {},
   "outputs": [],
   "source": [
    "rec_A[rec_A>5] = 5\n",
    "rec_A[rec_A<1] = 1"
   ]
  },
  {
   "cell_type": "code",
   "execution_count": null,
   "metadata": {},
   "outputs": [],
   "source": [
    "extract_submission(rec_A, file=\"rsvd\")"
   ]
  }
 ],
 "metadata": {
  "kernelspec": {
   "display_name": "Python 3.9.7 ('base')",
   "language": "python",
   "name": "python3"
  },
  "language_info": {
   "codemirror_mode": {
    "name": "ipython",
    "version": 3
   },
   "file_extension": ".py",
   "mimetype": "text/x-python",
   "name": "python",
   "nbconvert_exporter": "python",
   "pygments_lexer": "ipython3",
   "version": "3.9.7"
  },
  "orig_nbformat": 4,
  "vscode": {
   "interpreter": {
    "hash": "0a87d56eeac580fc40402592e75d25bb128c24f68de3c5b4d3abca5cf6a5446a"
   }
  }
 },
 "nbformat": 4,
 "nbformat_minor": 2
}
