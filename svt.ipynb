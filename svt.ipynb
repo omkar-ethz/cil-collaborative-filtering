{
 "cells": [
  {
   "cell_type": "markdown",
   "metadata": {},
   "source": [
    "# Singualar Value Thresholding / Nuclear norm relaxation\n",
    "Results: (after around 10 iterations)\n",
    "- Score: xx on Kaggle - did not publish as the method does not converge to a sensible RMSE\n",
    "- For many choice of parameters $\\tau$ and $\\eta$, the RMSE is ~15 on training set"
   ]
  },
  {
   "cell_type": "markdown",
   "metadata": {
    "id": "WdZ-qzPO_Mbw"
   },
   "source": [
    "## Packages"
   ]
  },
  {
   "cell_type": "code",
   "execution_count": 1,
   "metadata": {
    "id": "Sr5kvYqx-4kA"
   },
   "outputs": [],
   "source": [
    "import pandas as pd\n",
    "import numpy as np\n",
    "from tqdm import tqdm\n",
    "\n",
    "from utils import import_data_to_matrix, extract_submission\n",
    "from utils import NUMBER_OF_MOVIES, NUMBER_OF_USERS\n",
    "from utils import zscore_masked_items"
   ]
  },
  {
   "cell_type": "markdown",
   "metadata": {
    "id": "flpq9Ir2_WX_"
   },
   "source": [
    "## Data Preprocessings\n",
    "- Extract data to row-column format\n",
    "- Impute missing data with 0\n",
    "- Normalize item by item"
   ]
  },
  {
   "cell_type": "markdown",
   "metadata": {},
   "source": [
    "- Rating matrix A"
   ]
  },
  {
   "cell_type": "code",
   "execution_count": 2,
   "metadata": {
    "id": "wNc3UeBc6gn7"
   },
   "outputs": [],
   "source": [
    "A = import_data_to_matrix()"
   ]
  },
  {
   "cell_type": "markdown",
   "metadata": {},
   "source": [
    "- Observation matrix Ω\n",
    "- Normalize item by item (z-scores)\n",
    "$$A_{ij} = \\frac{A_{ij} - \\overline{A{j}}}{std(A_{j})}$$\n",
    "\n",
    "Important: \n",
    "- Only observed entries are updated\n",
    "- Mean and std is computed only over observed entries"
   ]
  },
  {
   "cell_type": "code",
   "execution_count": 3,
   "metadata": {
    "id": "jJ0yFusFEIrG"
   },
   "outputs": [],
   "source": [
    "W = (A > 0).astype(int)\n",
    "norm_A, mean_A, stddev_A = zscore_masked_items(A, W)"
   ]
  },
  {
   "cell_type": "markdown",
   "metadata": {},
   "source": [
    "## Projected gradient descent\n",
    "Let $A = U \\text{diag}(\\sigma_{i}) V^{\\top}$, define\n",
    "$$ \\text{shrink}_{\\tau}(A) = U \\text{diag}(\\sigma_{i} - \\tau)_{+} V^{\\top}$$\n",
    "The algorithm is:\n",
    "$$A^0 = 0$$\n",
    "$$A^{t+1} = A^t + \\eta\\Pi_{\\Omega}(A - \\text{shrink}_{\\tau}(A^t))$$"
   ]
  },
  {
   "cell_type": "code",
   "execution_count": 43,
   "metadata": {
    "id": "Ch_1W50I_sex"
   },
   "outputs": [
    {
     "name": "stderr",
     "output_type": "stream",
     "text": [
      "  0%|          | 0/50 [00:00<?, ?it/s]"
     ]
    },
    {
     "name": "stdout",
     "output_type": "stream",
     "text": [
      "setting tau  =  0.0\n",
      "[0. 0. 0. 0. 0. 0. 0. 0. 0. 0.]\n",
      "s-tau [0. 0. 0. 0. 0. 0. 0. 0. 0. 0.]\n",
      "s clipped [0. 0. 0. 0. 0. 0. 0. 0. 0. 0.]\n"
     ]
    },
    {
     "name": "stderr",
     "output_type": "stream",
     "text": [
      "  2%|▏         | 1/50 [00:03<02:27,  3.02s/it]"
     ]
    },
    {
     "name": "stdout",
     "output_type": "stream",
     "text": [
      "k =  5 , RMSE =  1.0000000000000009\n",
      "setting tau  =  50.858045365977596\n",
      "[323.22755713  70.55344563  62.00729893  50.85804537  46.32002343\n",
      "  43.53003662  42.00005233  39.06095707  38.2954933   37.1409861 ]\n",
      "s-tau [272.36951176  19.69540026  11.14925357   0.          -4.53802194\n",
      "  -7.32800875  -8.85799304 -11.79708829 -12.56255207 -13.71705927]\n",
      "s clipped [272.36951176  19.69540026  11.14925357   0.           0.\n",
      "   0.           0.           0.           0.           0.        ]\n"
     ]
    },
    {
     "name": "stderr",
     "output_type": "stream",
     "text": [
      "  4%|▍         | 2/50 [00:06<02:33,  3.19s/it]"
     ]
    },
    {
     "name": "stdout",
     "output_type": "stream",
     "text": [
      "k =  5 , RMSE =  1.0014058915725468\n",
      "setting tau  =  100.32229428027203\n",
      "[632.39410534 138.86826612 122.07366774 100.32229428  91.3514736\n",
      "  85.77878942  82.7937709   76.91868543  75.2835608   72.74843831]\n",
      "s-tau [532.07181106  38.54597184  21.75137346   0.          -8.97082068\n",
      " -14.54350486 -17.52852338 -23.40360885 -25.03873348 -27.57385597]\n",
      "s clipped [532.07181106  38.54597184  21.75137346   0.           0.\n",
      "   0.           0.           0.           0.           0.        ]\n"
     ]
    },
    {
     "name": "stderr",
     "output_type": "stream",
     "text": [
      "  6%|▌         | 3/50 [00:09<02:36,  3.32s/it]"
     ]
    },
    {
     "name": "stdout",
     "output_type": "stream",
     "text": [
      "k =  5 , RMSE =  1.043816387997426\n",
      "setting tau  =  148.46262119847194\n",
      "[928.29645    205.07271441 180.2960647  148.4626212  135.16787589\n",
      " 126.82665944 122.4536147  113.65648112 111.05625097 106.97185346]\n",
      "s-tau [779.8338288   56.61009321  31.8334435    0.         -13.29474531\n",
      " -21.63596176 -26.0090065  -34.80614008 -37.40637023 -41.49076773]\n",
      "s clipped [779.8338288   56.61009321  31.8334435    0.           0.\n",
      "   0.           0.           0.           0.           0.        ]\n"
     ]
    },
    {
     "name": "stderr",
     "output_type": "stream",
     "text": [
      "  8%|▊         | 4/50 [00:13<02:33,  3.34s/it]"
     ]
    },
    {
     "name": "stdout",
     "output_type": "stream",
     "text": [
      "k =  5 , RMSE =  1.1209627496668322\n",
      "setting tau  =  195.34426164348776\n",
      "[1211.68050111  269.28555176  236.76512014  195.34426164  177.83678161\n",
      "  166.74685084  161.04509167  149.34678338  145.69656996  139.95708585]\n",
      "s-tau [1016.33623947   73.94129012   41.4208585     0.          -17.50748003\n",
      "  -28.59741081  -34.29916998  -45.99747827  -49.64769168  -55.38717579]\n",
      "s clipped [1016.33623947   73.94129012   41.4208585     0.            0.\n",
      "    0.            0.            0.            0.            0.        ]\n"
     ]
    },
    {
     "name": "stderr",
     "output_type": "stream",
     "text": [
      " 10%|█         | 5/50 [00:16<02:25,  3.23s/it]"
     ]
    },
    {
     "name": "stdout",
     "output_type": "stream",
     "text": [
      "k =  5 , RMSE =  1.2273847135086369\n",
      "setting tau  =  241.02821051332742\n",
      "[1483.24476555  331.61678968  291.56568216  241.02821051  219.42039381\n",
      "  205.606217    198.62781385  184.05369649  179.27968455  171.84536617]\n",
      "s-tau [1242.21655503   90.58857916   50.53747164    0.          -21.60781671\n",
      "  -35.42199351  -42.40039667  -56.97451402  -61.74852596  -69.18284434]\n",
      "s clipped [1242.21655503   90.58857916   50.53747164    0.            0.\n",
      "    0.            0.            0.            0.            0.        ]\n"
     ]
    },
    {
     "name": "stderr",
     "output_type": "stream",
     "text": [
      " 12%|█▏        | 6/50 [00:19<02:19,  3.17s/it]"
     ]
    },
    {
     "name": "stdout",
     "output_type": "stream",
     "text": [
      "k =  5 , RMSE =  1.3583293875939577\n",
      "setting tau  =  285.57157574544055\n",
      "[1743.64358999  392.16837422  344.7773075   285.57157575  259.97611607\n",
      "  243.4659822   235.25632254  217.83468894  211.87388307  202.76998716]\n",
      "s-tau [1458.07201425  106.59679848   59.20573176    0.          -25.59545968\n",
      "  -42.10559354  -50.3152532   -67.73688681  -73.69769268  -82.80158858]\n",
      "s clipped [1458.07201425  106.59679848   59.20573176    0.            0.\n",
      "    0.            0.            0.            0.            0.        ]\n"
     ]
    },
    {
     "name": "stderr",
     "output_type": "stream",
     "text": [
      " 14%|█▍        | 7/50 [00:22<02:14,  3.13s/it]"
     ]
    },
    {
     "name": "stdout",
     "output_type": "stream",
     "text": [
      "k =  5 , RMSE =  1.5096628142382698\n",
      "setting tau  =  329.0278938756607\n",
      "[1993.49017248  451.03481797  396.47470225  329.02789388  299.55703466\n",
      "  280.38236099  270.98074598  250.74178567  243.54137603  232.84706011]\n",
      "s-tau [1664.4622786   122.00692409   67.44680837    0.          -29.47085922\n",
      "  -48.64553289  -58.04714789  -78.2861082   -85.48651785  -96.18083376]\n",
      "s clipped [1664.4622786   122.00692409   67.44680837    0.            0.\n",
      "    0.            0.            0.            0.            0.        ]\n"
     ]
    },
    {
     "name": "stderr",
     "output_type": "stream",
     "text": [
      " 16%|█▌        | 8/50 [00:25<02:14,  3.21s/it]"
     ]
    },
    {
     "name": "stdout",
     "output_type": "stream",
     "text": [
      "k =  5 , RMSE =  1.677792600723686\n",
      "setting tau  =  371.44741281667535\n",
      "[2233.35935903  508.3037841   446.72811701  371.44741282  338.21234289\n",
      "  316.40709287  305.84733289  282.82243755  274.33897817  262.164242  ]\n",
      "s-tau [1861.91194621  136.85637128   75.28070419    0.          -33.23506992\n",
      "  -55.04031995  -65.60007993  -88.62497527  -97.10843465 -109.28317081]\n",
      "s clipped [1861.91194621  136.85637128   75.28070419    0.            0.\n",
      "    0.            0.            0.            0.            0.        ]\n"
     ]
    },
    {
     "name": "stderr",
     "output_type": "stream",
     "text": [
      " 18%|█▊        | 9/50 [00:28<02:10,  3.17s/it]"
     ]
    },
    {
     "name": "stdout",
     "output_type": "stream",
     "text": [
      "k =  5 , RMSE =  1.8596002193572043\n"
     ]
    },
    {
     "name": "stderr",
     "output_type": "stream",
     "text": [
      " 18%|█▊        | 9/50 [00:31<02:24,  3.52s/it]\n"
     ]
    },
    {
     "ename": "KeyboardInterrupt",
     "evalue": "",
     "output_type": "error",
     "traceback": [
      "\u001b[0;31m---------------------------------------------------------------------------\u001b[0m",
      "\u001b[0;31mKeyboardInterrupt\u001b[0m                         Traceback (most recent call last)",
      "\u001b[1;32m/home/omkar/ethz/fs22/cil/cil-collaborative-filtering/svt.ipynb Cell 10'\u001b[0m in \u001b[0;36m<cell line: 20>\u001b[0;34m()\u001b[0m\n\u001b[1;32m     <a href='vscode-notebook-cell:/home/omkar/ethz/fs22/cil/cil-collaborative-filtering/svt.ipynb#ch0000009?line=18'>19</a>\u001b[0m shrink_tau_A_t \u001b[39m=\u001b[39m \u001b[39mNone\u001b[39;00m\n\u001b[1;32m     <a href='vscode-notebook-cell:/home/omkar/ethz/fs22/cil/cil-collaborative-filtering/svt.ipynb#ch0000009?line=19'>20</a>\u001b[0m \u001b[39mfor\u001b[39;00m epoch \u001b[39min\u001b[39;00m tqdm(\u001b[39mrange\u001b[39m(\u001b[39m50\u001b[39m)):\n\u001b[0;32m---> <a href='vscode-notebook-cell:/home/omkar/ethz/fs22/cil/cil-collaborative-filtering/svt.ipynb#ch0000009?line=20'>21</a>\u001b[0m     shrink_tau_A_t \u001b[39m=\u001b[39m shrink(tau, A_t)\n\u001b[1;32m     <a href='vscode-notebook-cell:/home/omkar/ethz/fs22/cil/cil-collaborative-filtering/svt.ipynb#ch0000009?line=21'>22</a>\u001b[0m     A_t \u001b[39m=\u001b[39m A_t \u001b[39m+\u001b[39m eta \u001b[39m*\u001b[39m W \u001b[39m*\u001b[39m (A \u001b[39m-\u001b[39m shrink_tau_A_t)\n\u001b[1;32m     <a href='vscode-notebook-cell:/home/omkar/ethz/fs22/cil/cil-collaborative-filtering/svt.ipynb#ch0000009?line=22'>23</a>\u001b[0m     \u001b[39m#iter+=1\u001b[39;00m\n\u001b[1;32m     <a href='vscode-notebook-cell:/home/omkar/ethz/fs22/cil/cil-collaborative-filtering/svt.ipynb#ch0000009?line=23'>24</a>\u001b[0m     \u001b[39m#eta = eta / (iter)**(1/2)\u001b[39;00m\n",
      "\u001b[1;32m/home/omkar/ethz/fs22/cil/cil-collaborative-filtering/svt.ipynb Cell 10'\u001b[0m in \u001b[0;36mshrink\u001b[0;34m(tau, A)\u001b[0m\n\u001b[1;32m      <a href='vscode-notebook-cell:/home/omkar/ethz/fs22/cil/cil-collaborative-filtering/svt.ipynb#ch0000009?line=3'>4</a>\u001b[0m \u001b[39mdef\u001b[39;00m \u001b[39mshrink\u001b[39m(tau, A):\n\u001b[0;32m----> <a href='vscode-notebook-cell:/home/omkar/ethz/fs22/cil/cil-collaborative-filtering/svt.ipynb#ch0000009?line=4'>5</a>\u001b[0m     U, s, Vt \u001b[39m=\u001b[39m np\u001b[39m.\u001b[39;49mlinalg\u001b[39m.\u001b[39;49msvd(A, full_matrices\u001b[39m=\u001b[39;49m\u001b[39mFalse\u001b[39;49;00m)\n\u001b[1;32m      <a href='vscode-notebook-cell:/home/omkar/ethz/fs22/cil/cil-collaborative-filtering/svt.ipynb#ch0000009?line=5'>6</a>\u001b[0m     \u001b[39m#tau = max(s[2], tau)\u001b[39;00m\n\u001b[1;32m      <a href='vscode-notebook-cell:/home/omkar/ethz/fs22/cil/cil-collaborative-filtering/svt.ipynb#ch0000009?line=6'>7</a>\u001b[0m     tau \u001b[39m=\u001b[39m s[\u001b[39m3\u001b[39m]\n",
      "File \u001b[0;32m<__array_function__ internals>:180\u001b[0m, in \u001b[0;36msvd\u001b[0;34m(*args, **kwargs)\u001b[0m\n",
      "File \u001b[0;32m~/ethz/fs22/cil/cil/lib64/python3.10/site-packages/numpy/linalg/linalg.py:1648\u001b[0m, in \u001b[0;36msvd\u001b[0;34m(a, full_matrices, compute_uv, hermitian)\u001b[0m\n\u001b[1;32m   1645\u001b[0m         gufunc \u001b[39m=\u001b[39m _umath_linalg\u001b[39m.\u001b[39msvd_n_s\n\u001b[1;32m   1647\u001b[0m signature \u001b[39m=\u001b[39m \u001b[39m'\u001b[39m\u001b[39mD->DdD\u001b[39m\u001b[39m'\u001b[39m \u001b[39mif\u001b[39;00m isComplexType(t) \u001b[39melse\u001b[39;00m \u001b[39m'\u001b[39m\u001b[39md->ddd\u001b[39m\u001b[39m'\u001b[39m\n\u001b[0;32m-> 1648\u001b[0m u, s, vh \u001b[39m=\u001b[39m gufunc(a, signature\u001b[39m=\u001b[39;49msignature, extobj\u001b[39m=\u001b[39;49mextobj)\n\u001b[1;32m   1649\u001b[0m u \u001b[39m=\u001b[39m u\u001b[39m.\u001b[39mastype(result_t, copy\u001b[39m=\u001b[39m\u001b[39mFalse\u001b[39;00m)\n\u001b[1;32m   1650\u001b[0m s \u001b[39m=\u001b[39m s\u001b[39m.\u001b[39mastype(_realType(result_t), copy\u001b[39m=\u001b[39m\u001b[39mFalse\u001b[39;00m)\n",
      "\u001b[0;31mKeyboardInterrupt\u001b[0m: "
     ]
    }
   ],
   "source": [
    "def rmse(A, A_t, W):\n",
    "    return np.sum(W*((A-A_t)**2)) / np.sum(W)\n",
    "\n",
    "def shrink(tau, A):\n",
    "    U, s, Vt = np.linalg.svd(A, full_matrices=False)\n",
    "    print(s[:10])\n",
    "    s = s - tau\n",
    "    print(\"s-tau\", s[:10])\n",
    "    s[s < 0] = 0 #clip singular values\n",
    "    print(\"s clipped\", s[:10])\n",
    "    return np.dot(U * s, Vt)\n",
    "\n",
    "A_t = np.zeros((NUMBER_OF_USERS , NUMBER_OF_MOVIES))\n",
    "eta = 0.15\n",
    "tau = 2000\n",
    "shrink_tau_A_t = None\n",
    "for epoch in tqdm(range(50)):\n",
    "    shrink_tau_A_t = shrink(tau, A_t)\n",
    "    A_t = A_t + eta * W * (A - shrink_tau_A_t)\n",
    "    #iter+=1\n",
    "    #eta = eta / (iter)**(1/2)\n",
    "    print(\"k = \", k, \", RMSE = \", rmse(norm_A, shrink_tau_A_t, W))"
   ]
  },
  {
   "cell_type": "markdown",
   "metadata": {},
   "source": [
    "- Undo the normalization."
   ]
  },
  {
   "cell_type": "code",
   "execution_count": 15,
   "metadata": {},
   "outputs": [
    {
     "name": "stdout",
     "output_type": "stream",
     "text": [
      "[[0.42756985 0.76159923 0.99975634 ... 0.5869903  0.78252946 1.43644687]\n",
      " [1.64463584 2.1547667  2.64260856 ... 1.90404985 2.39352381 3.42246276]\n",
      " [0.7796484  1.3228193  1.72065146 ... 1.04024146 1.37444825 2.44037028]\n",
      " ...\n",
      " [0.66568373 1.045077   1.33811468 ... 0.84965006 1.10639549 1.85461678]\n",
      " [0.90673158 1.48481145 1.91784713 ... 1.1853105  1.55581064 2.69258824]\n",
      " [1.42402051 1.97821391 2.46279663 ... 1.70000936 2.1619646  3.26870618]]\n"
     ]
    }
   ],
   "source": [
    "print(shrink_tau_A_t)"
   ]
  },
  {
   "cell_type": "code",
   "execution_count": 16,
   "metadata": {},
   "outputs": [],
   "source": [
    "rec_A = A_t\n",
    "#undo normalization\n",
    "for j in range(1000):\n",
    "    rec_A[:,j] *= stddev_A[j]\n",
    "    rec_A[:,j] += mean_A[j]"
   ]
  },
  {
   "cell_type": "code",
   "execution_count": 19,
   "metadata": {},
   "outputs": [
    {
     "name": "stdout",
     "output_type": "stream",
     "text": [
      "[[  3.37941176   3.50094162   3.48358586 ...   3.23940678   3.3539823\n",
      "    3.68230563]\n",
      " [  3.37941176   3.50094162   3.48358586 ... 113.33956435  44.60171118\n",
      "   21.87030508]\n",
      " [  3.37941176   3.50094162   3.48358586 ...   3.23940678   3.3539823\n",
      "    3.68230563]\n",
      " ...\n",
      " [  3.37941176   3.50094162   3.48358586 ...   3.23940678   3.3539823\n",
      "    3.68230563]\n",
      " [  3.37941176   3.50094162   3.48358586 ...   3.23940678   3.3539823\n",
      "    3.68230563]\n",
      " [  3.37941176   3.50094162   3.48358586 ...   3.23940678   3.3539823\n",
      "   26.00490399]] -92.36440411063332 200.6733674310879 7.437268025784767 3.6412143514259427\n"
     ]
    }
   ],
   "source": [
    "print(rec_A, np.min(rec_A), np.max(rec_A), np.mean(rec_A), np.median(rec_A))"
   ]
  },
  {
   "cell_type": "markdown",
   "metadata": {
    "id": "XPJUBrFP_dRn"
   },
   "source": [
    "## Export Predictions\n"
   ]
  },
  {
   "cell_type": "code",
   "execution_count": 23,
   "metadata": {
    "id": "pu0u1JOt-Zqq"
   },
   "outputs": [],
   "source": [
    "extract_submission(rec_A, file=\"baseline\")"
   ]
  },
  {
   "cell_type": "code",
   "execution_count": 27,
   "metadata": {},
   "outputs": [
    {
     "name": "stdout",
     "output_type": "stream",
     "text": [
      "[[1. 2. 3. 4. 5.]\n",
      " [1. 2. 3. 4. 5.]\n",
      " [1. 2. 3. 4. 5.]\n",
      " [1. 2. 3. 4. 5.]]\n",
      "1.0000000000000009\n"
     ]
    }
   ],
   "source": [
    "temp = np.ones((4,5))\n",
    "s = np.array([1,2,3,4,5])\n",
    "S = np.diag(s)\n",
    "print(temp @ S)\n",
    "print(np.sum(norm_A**2)/np.sum(W))"
   ]
  }
 ],
 "metadata": {
  "kernelspec": {
   "display_name": "Python 3.10.2 ('cil')",
   "language": "python",
   "name": "python3"
  },
  "language_info": {
   "codemirror_mode": {
    "name": "ipython",
    "version": 3
   },
   "file_extension": ".py",
   "mimetype": "text/x-python",
   "name": "python",
   "nbconvert_exporter": "python",
   "pygments_lexer": "ipython3",
   "version": "3.10.4"
  },
  "orig_nbformat": 4,
  "vscode": {
   "interpreter": {
    "hash": "49beda6cbcda4daddaf5fa7c1f859c0e20ecf9f37cbd1708819db2b3dc28a405"
   }
  }
 },
 "nbformat": 4,
 "nbformat_minor": 2
}
