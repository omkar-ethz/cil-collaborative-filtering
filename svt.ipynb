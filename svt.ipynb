{
 "cells": [
  {
   "cell_type": "code",
   "execution_count": null,
   "metadata": {
    "id": "Sr5kvYqx-4kA"
   },
   "outputs": [],
   "source": [
    "import pandas as pd\n",
    "import numpy as np\n",
    "from tqdm import tqdm\n",
    "\n",
    "from utils import import_data_to_matrix_split, import_data_to_matrix, extract_submission\n",
    "from utils import zscore_masked_items, get_rmse_score"
   ]
  },
  {
   "cell_type": "markdown",
   "metadata": {},
   "source": [
    "# Singualar Value Thresholding / Nuclear norm relaxation\n",
    "\n",
    "## Data Preprocessings\n",
    "- Extract data to row-column format\n",
    "- Impute missing data with 0\n",
    "- Rating matrix A\n",
    "- Observation matrix Ω\n",
    "- Normalize item by item (z-scores)\n",
    "$$A_{ij} = \\frac{A_{ij} - \\overline{A{j}}}{std(A_{j})}$$\n",
    "\n",
    "Important: \n",
    "- Only observed entries are updated\n",
    "- Mean and std is computed only over observed entries\n",
    "\n",
    "## Projected gradient descent\n",
    "Let $A = U \\text{diag}(\\sigma_{i}) V^{\\top}$, define\n",
    "$$ \\text{shrink}_{\\tau}(A) = U \\text{diag}(\\sigma_{i} - \\tau)_{+} V^{\\top}$$\n",
    "The algorithm is:\n",
    "$$A^0 = 0$$\n",
    "$$A^{t+1} = A^t + \\eta\\Pi_{\\Omega}(A - \\text{shrink}_{\\tau}(A^t))$$\n",
    "\n",
    "## Reconstruction\n",
    "- Shrink last $A^t$\n",
    "- Then Undo the normalization"
   ]
  },
  {
   "cell_type": "code",
   "execution_count": null,
   "metadata": {},
   "outputs": [],
   "source": [
    "class SVT():\n",
    "    \n",
    "    def __init__(self, A, eta=1.2, tau=800, epochs=12):\n",
    "        self.A = A\n",
    "        self.W = (self.A > 0).astype(int)\n",
    "        self.num_users, self.num_items = self.A.shape\n",
    "        self.eta = eta\n",
    "        self.tau = tau\n",
    "        self.epochs = epochs\n",
    "        \n",
    "        self.norm_A, self.mean_A, self.stddev_A = zscore_masked_items(self.A, self.W)\n",
    "        self.A_t = np.zeros((self.num_users , self.num_items))\n",
    "    \n",
    "    def train(self, test_matrix=None):\n",
    "        error_progress = {\n",
    "            \"train_rmse\": [],\n",
    "            \"test_rmse\": [],\n",
    "        }\n",
    "        for epoch in tqdm(range(self.epochs)):\n",
    "            self._shrinkgd()\n",
    "            # self.eta = self.eta/(epoch+1)**(1/2)\n",
    "            rec_A = self.reconstruct_matrix()\n",
    "            train_rmse = get_rmse_score(rec_A, self.A)\n",
    "            error_progress[\"train_rmse\"].append(train_rmse)\n",
    "            if test_matrix is not None:\n",
    "                test_rmse = get_rmse_score(rec_A, test_matrix)\n",
    "                error_progress[\"test_rmse\"].append(test_rmse)\n",
    "            # print(error_progress)\n",
    "        return error_progress\n",
    "\n",
    "    def _shrinkgd(self):\n",
    "        shrinked_A_t = self._shrink()\n",
    "        self.A_t = self.A_t + self.eta * self.W * (self.norm_A - shrinked_A_t)\n",
    "\n",
    "    def _shrink(self):\n",
    "        U, s, Vt = np.linalg.svd(self.A_t, full_matrices=False)\n",
    "        # print(s[:10])\n",
    "        s = s - self.tau\n",
    "        # print(\"s-tau\", s[:10])\n",
    "        s[s < 0] = 0 #clip singular values\n",
    "        # print(\"s clipped\", s[:10])\n",
    "        return np.dot(U * s, Vt)\n",
    "\n",
    "    def reconstruct_matrix(self):\n",
    "        \"\"\"\n",
    "        Compute the full matrix using last A_t and perform the shrinkage op and\n",
    "        undo normalization.\n",
    "        \"\"\"\n",
    "        shrinked_A_t = self._shrink()\n",
    "        rec_A = shrinked_A_t\n",
    "        #undo normalization\n",
    "        for j in range(self.num_items):\n",
    "            rec_A[:,j] *= self.stddev_A[j]\n",
    "            rec_A[:,j] += self.mean_A[j]\n",
    "        return rec_A"
   ]
  },
  {
   "cell_type": "markdown",
   "metadata": {},
   "source": [
    "- Uncomment and play with parameters (look at the test set error)"
   ]
  },
  {
   "cell_type": "code",
   "execution_count": null,
   "metadata": {},
   "outputs": [],
   "source": [
    "# A, test_matrix = import_data_to_matrix_split()\n",
    "# model = SVT(A, eta=1.2, tau=2000, epochs=28)\n",
    "# model.train(test_matrix=test_matrix)"
   ]
  },
  {
   "cell_type": "code",
   "execution_count": null,
   "metadata": {},
   "outputs": [],
   "source": [
    "A = import_data_to_matrix()\n",
    "model = SVT(A, eta=1.2, tau=800, epochs=12)\n",
    "model.train()\n",
    "rec_A = model.reconstruct_matrix()"
   ]
  },
  {
   "cell_type": "code",
   "execution_count": null,
   "metadata": {},
   "outputs": [],
   "source": [
    "rec_A[rec_A>5] = 5\n",
    "rec_A[rec_A<1] = 1"
   ]
  },
  {
   "cell_type": "code",
   "execution_count": null,
   "metadata": {
    "id": "pu0u1JOt-Zqq"
   },
   "outputs": [],
   "source": [
    "extract_submission(rec_A, file=\"svt\")"
   ]
  }
 ],
 "metadata": {
  "kernelspec": {
   "display_name": "Python 3.9.7 ('base')",
   "language": "python",
   "name": "python3"
  },
  "language_info": {
   "codemirror_mode": {
    "name": "ipython",
    "version": 3
   },
   "file_extension": ".py",
   "mimetype": "text/x-python",
   "name": "python",
   "nbconvert_exporter": "python",
   "pygments_lexer": "ipython3",
   "version": "3.9.7"
  },
  "orig_nbformat": 4,
  "vscode": {
   "interpreter": {
    "hash": "0a87d56eeac580fc40402592e75d25bb128c24f68de3c5b4d3abca5cf6a5446a"
   }
  }
 },
 "nbformat": 4,
 "nbformat_minor": 2
}
